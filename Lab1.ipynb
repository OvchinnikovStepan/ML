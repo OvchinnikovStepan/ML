{
 "cells": [
  {
   "cell_type": "markdown",
   "id": "135b9af2-b2f4-464e-9040-e5c8d5081cbe",
   "metadata": {},
   "source": [
    "Импортируем необходимые библеотеки"
   ]
  },
  {
   "cell_type": "code",
   "execution_count": 1,
   "id": "5c781735-81cf-4292-91d1-9ac2328a67f4",
   "metadata": {},
   "outputs": [],
   "source": [
    "import pandas as pd\n",
    "from bs4 import BeautifulSoup\n",
    "import requests"
   ]
  },
  {
   "cell_type": "markdown",
   "id": "94a6fe29-1884-4da9-b76b-740c47226b97",
   "metadata": {},
   "source": [
    "Подгружаем базу данных"
   ]
  },
  {
   "cell_type": "code",
   "execution_count": 2,
   "id": "12450b0a-dc02-412f-a281-48b50262c9c8",
   "metadata": {},
   "outputs": [],
   "source": [
    "df=pd.read_csv(\"D:\\ML\\data\\Dataset1.csv\")"
   ]
  },
  {
   "cell_type": "markdown",
   "id": "fed30816-0f05-4284-ae3f-62add47b7091",
   "metadata": {},
   "source": [
    "Посмотрим верхнюю часть таблицы чтобы понять с чем мы работаем"
   ]
  },
  {
   "cell_type": "code",
   "execution_count": 3,
   "id": "b3010f75-dab7-4768-b752-457f7babb8f8",
   "metadata": {
    "scrolled": true
   },
   "outputs": [
    {
     "data": {
      "text/html": [
       "<div>\n",
       "<style scoped>\n",
       "    .dataframe tbody tr th:only-of-type {\n",
       "        vertical-align: middle;\n",
       "    }\n",
       "\n",
       "    .dataframe tbody tr th {\n",
       "        vertical-align: top;\n",
       "    }\n",
       "\n",
       "    .dataframe thead th {\n",
       "        text-align: right;\n",
       "    }\n",
       "</style>\n",
       "<table border=\"1\" class=\"dataframe\">\n",
       "  <thead>\n",
       "    <tr style=\"text-align: right;\">\n",
       "      <th></th>\n",
       "      <th>color</th>\n",
       "      <th>Director_Name</th>\n",
       "      <th>num_Critic_for_reviews</th>\n",
       "      <th>duration</th>\n",
       "      <th>director_Facebook_likes</th>\n",
       "      <th>actor_3_Facebook_likes</th>\n",
       "      <th>actor_2_name</th>\n",
       "      <th>Actor_1_Facebook_likes</th>\n",
       "      <th>gross</th>\n",
       "      <th>genres</th>\n",
       "      <th>...</th>\n",
       "      <th>num_user_for_reviews</th>\n",
       "      <th>language</th>\n",
       "      <th>country</th>\n",
       "      <th>content_rating</th>\n",
       "      <th>budget</th>\n",
       "      <th>title_year</th>\n",
       "      <th>actor_2_facebook_likes</th>\n",
       "      <th>imdb_score</th>\n",
       "      <th>aspect_ratio</th>\n",
       "      <th>movie_facebook_likes;</th>\n",
       "    </tr>\n",
       "  </thead>\n",
       "  <tbody>\n",
       "    <tr>\n",
       "      <th>0</th>\n",
       "      <td>Color</td>\n",
       "      <td>James Cameron</td>\n",
       "      <td>723.0</td>\n",
       "      <td>178.0</td>\n",
       "      <td>0.0</td>\n",
       "      <td>855.0</td>\n",
       "      <td>Joel David Moore</td>\n",
       "      <td>1000.0</td>\n",
       "      <td>760505847.0</td>\n",
       "      <td>Action|Adventure|Fantasy|Sci-Fi</td>\n",
       "      <td>...</td>\n",
       "      <td>3054.0</td>\n",
       "      <td>English</td>\n",
       "      <td>USA</td>\n",
       "      <td>PG-13</td>\n",
       "      <td>237000000.0</td>\n",
       "      <td>2009.0</td>\n",
       "      <td>936.0</td>\n",
       "      <td>7.9</td>\n",
       "      <td>1.78</td>\n",
       "      <td>33000;</td>\n",
       "    </tr>\n",
       "    <tr>\n",
       "      <th>1</th>\n",
       "      <td>Colour</td>\n",
       "      <td>Gore Verbinski</td>\n",
       "      <td>302.0</td>\n",
       "      <td>169.0</td>\n",
       "      <td>563.0</td>\n",
       "      <td>1000.0</td>\n",
       "      <td>Orlando Bloom</td>\n",
       "      <td>40000.0</td>\n",
       "      <td>309404152.0</td>\n",
       "      <td>Action|Adventure|Fantasy</td>\n",
       "      <td>...</td>\n",
       "      <td>1238.0</td>\n",
       "      <td>English</td>\n",
       "      <td>USA</td>\n",
       "      <td>PG-13</td>\n",
       "      <td>300000000.0</td>\n",
       "      <td>2007.0</td>\n",
       "      <td>5000.0</td>\n",
       "      <td>7.1</td>\n",
       "      <td>2.35</td>\n",
       "      <td>0;</td>\n",
       "    </tr>\n",
       "    <tr>\n",
       "      <th>2</th>\n",
       "      <td>Colour</td>\n",
       "      <td>Sam Mendes</td>\n",
       "      <td>602.0</td>\n",
       "      <td>148.0</td>\n",
       "      <td>0.0</td>\n",
       "      <td>161.0</td>\n",
       "      <td>Rory Kinnear</td>\n",
       "      <td>11000.0</td>\n",
       "      <td>200074175.0</td>\n",
       "      <td>Action|Adventure|Thriller</td>\n",
       "      <td>...</td>\n",
       "      <td>994.0</td>\n",
       "      <td>English</td>\n",
       "      <td>UK</td>\n",
       "      <td>PG-13</td>\n",
       "      <td>245000000.0</td>\n",
       "      <td>2015.0</td>\n",
       "      <td>393.0</td>\n",
       "      <td>6.8</td>\n",
       "      <td>2.35</td>\n",
       "      <td>85000;</td>\n",
       "    </tr>\n",
       "    <tr>\n",
       "      <th>3</th>\n",
       "      <td>Color</td>\n",
       "      <td>Christopher Nolan</td>\n",
       "      <td>813.0</td>\n",
       "      <td>164.0</td>\n",
       "      <td>22000.0</td>\n",
       "      <td>23000.0</td>\n",
       "      <td>Christian Bale</td>\n",
       "      <td>27000.0</td>\n",
       "      <td>448130642.0</td>\n",
       "      <td>Action|Thriller</td>\n",
       "      <td>...</td>\n",
       "      <td>2701.0</td>\n",
       "      <td>English</td>\n",
       "      <td>USA</td>\n",
       "      <td>PG-13</td>\n",
       "      <td>250000000.0</td>\n",
       "      <td>2012.0</td>\n",
       "      <td>23000.0</td>\n",
       "      <td>8.5</td>\n",
       "      <td>2.35</td>\n",
       "      <td>164000;</td>\n",
       "    </tr>\n",
       "    <tr>\n",
       "      <th>4</th>\n",
       "      <td>NaN</td>\n",
       "      <td>Doug Walker</td>\n",
       "      <td>NaN</td>\n",
       "      <td>NaN</td>\n",
       "      <td>131.0</td>\n",
       "      <td>NaN</td>\n",
       "      <td>Rob Walker</td>\n",
       "      <td>131.0</td>\n",
       "      <td>NaN</td>\n",
       "      <td>Documentary</td>\n",
       "      <td>...</td>\n",
       "      <td>NaN</td>\n",
       "      <td>NaN</td>\n",
       "      <td>NaN</td>\n",
       "      <td>NaN</td>\n",
       "      <td>NaN</td>\n",
       "      <td>NaN</td>\n",
       "      <td>12.0</td>\n",
       "      <td>7.1</td>\n",
       "      <td>NaN</td>\n",
       "      <td>0;</td>\n",
       "    </tr>\n",
       "    <tr>\n",
       "      <th>5</th>\n",
       "      <td>Colour</td>\n",
       "      <td>Andrew Stanton</td>\n",
       "      <td>462.0</td>\n",
       "      <td>132.0</td>\n",
       "      <td>475.0</td>\n",
       "      <td>530.0</td>\n",
       "      <td>Samantha Morton</td>\n",
       "      <td>640.0</td>\n",
       "      <td>73058679.0</td>\n",
       "      <td>Action|Adventure|Sci-Fi</td>\n",
       "      <td>...</td>\n",
       "      <td>738.0</td>\n",
       "      <td>English</td>\n",
       "      <td>USA</td>\n",
       "      <td>PG-13</td>\n",
       "      <td>263700000.0</td>\n",
       "      <td>2012.0</td>\n",
       "      <td>632.0</td>\n",
       "      <td>6.6</td>\n",
       "      <td>2.35</td>\n",
       "      <td>24000;</td>\n",
       "    </tr>\n",
       "    <tr>\n",
       "      <th>6</th>\n",
       "      <td>Color</td>\n",
       "      <td>Sam Raimi</td>\n",
       "      <td>392.0</td>\n",
       "      <td>156.0</td>\n",
       "      <td>0.0</td>\n",
       "      <td>4000.0</td>\n",
       "      <td>James Franco</td>\n",
       "      <td>24000.0</td>\n",
       "      <td>336530303.0</td>\n",
       "      <td>Action|Adventure|Romance</td>\n",
       "      <td>...</td>\n",
       "      <td>1902.0</td>\n",
       "      <td>English</td>\n",
       "      <td>USA</td>\n",
       "      <td>PG-13</td>\n",
       "      <td>258000000.0</td>\n",
       "      <td>2007.0</td>\n",
       "      <td>11000.0</td>\n",
       "      <td>6.2</td>\n",
       "      <td>2.35</td>\n",
       "      <td>0;</td>\n",
       "    </tr>\n",
       "    <tr>\n",
       "      <th>7</th>\n",
       "      <td>Color</td>\n",
       "      <td>Nathan Greno</td>\n",
       "      <td>324.0</td>\n",
       "      <td>100.0</td>\n",
       "      <td>15.0</td>\n",
       "      <td>284.0</td>\n",
       "      <td>Donna Murphy</td>\n",
       "      <td>799.0</td>\n",
       "      <td>200807262.0</td>\n",
       "      <td>Adventure|Animation|Comedy|Family|Fantasy|Musi...</td>\n",
       "      <td>...</td>\n",
       "      <td>387.0</td>\n",
       "      <td>English</td>\n",
       "      <td>USA</td>\n",
       "      <td>PG</td>\n",
       "      <td>260000000.0</td>\n",
       "      <td>2010.0</td>\n",
       "      <td>553.0</td>\n",
       "      <td>7.8</td>\n",
       "      <td>1.85</td>\n",
       "      <td>29000;</td>\n",
       "    </tr>\n",
       "    <tr>\n",
       "      <th>8</th>\n",
       "      <td>Colour</td>\n",
       "      <td>Joss Whedon</td>\n",
       "      <td>635.0</td>\n",
       "      <td>141.0</td>\n",
       "      <td>0.0</td>\n",
       "      <td>19000.0</td>\n",
       "      <td>Robert Downey Jr.</td>\n",
       "      <td>26000.0</td>\n",
       "      <td>458991599.0</td>\n",
       "      <td>Action|Adventure|Sci-Fi</td>\n",
       "      <td>...</td>\n",
       "      <td>1117.0</td>\n",
       "      <td>English</td>\n",
       "      <td>USA</td>\n",
       "      <td>PG-13</td>\n",
       "      <td>250000000.0</td>\n",
       "      <td>2015.0</td>\n",
       "      <td>21000.0</td>\n",
       "      <td>7.5</td>\n",
       "      <td>2.35</td>\n",
       "      <td>118000;</td>\n",
       "    </tr>\n",
       "    <tr>\n",
       "      <th>9</th>\n",
       "      <td>Colour</td>\n",
       "      <td>David Yates</td>\n",
       "      <td>375.0</td>\n",
       "      <td>153.0</td>\n",
       "      <td>282.0</td>\n",
       "      <td>10000.0</td>\n",
       "      <td>Daniel Radcliffe</td>\n",
       "      <td>25000.0</td>\n",
       "      <td>301956980.0</td>\n",
       "      <td>Adventure|Family|Fantasy|Mystery</td>\n",
       "      <td>...</td>\n",
       "      <td>973.0</td>\n",
       "      <td>English</td>\n",
       "      <td>UK</td>\n",
       "      <td>PG</td>\n",
       "      <td>250000000.0</td>\n",
       "      <td>2009.0</td>\n",
       "      <td>11000.0</td>\n",
       "      <td>7.5</td>\n",
       "      <td>2.35</td>\n",
       "      <td>10000;</td>\n",
       "    </tr>\n",
       "  </tbody>\n",
       "</table>\n",
       "<p>10 rows × 28 columns</p>\n",
       "</div>"
      ],
      "text/plain": [
       "    color      Director_Name  num_Critic_for_reviews  duration  \\\n",
       "0   Color      James Cameron                   723.0     178.0   \n",
       "1  Colour     Gore Verbinski                   302.0     169.0   \n",
       "2  Colour         Sam Mendes                   602.0     148.0   \n",
       "3   Color  Christopher Nolan                   813.0     164.0   \n",
       "4     NaN        Doug Walker                     NaN       NaN   \n",
       "5  Colour     Andrew Stanton                   462.0     132.0   \n",
       "6   Color          Sam Raimi                   392.0     156.0   \n",
       "7   Color       Nathan Greno                   324.0     100.0   \n",
       "8  Colour        Joss Whedon                   635.0     141.0   \n",
       "9  Colour        David Yates                   375.0     153.0   \n",
       "\n",
       "   director_Facebook_likes  actor_3_Facebook_likes       actor_2_name  \\\n",
       "0                      0.0                   855.0   Joel David Moore   \n",
       "1                    563.0                  1000.0      Orlando Bloom   \n",
       "2                      0.0                   161.0       Rory Kinnear   \n",
       "3                  22000.0                 23000.0     Christian Bale   \n",
       "4                    131.0                     NaN         Rob Walker   \n",
       "5                    475.0                   530.0    Samantha Morton   \n",
       "6                      0.0                  4000.0       James Franco   \n",
       "7                     15.0                   284.0       Donna Murphy   \n",
       "8                      0.0                 19000.0  Robert Downey Jr.   \n",
       "9                    282.0                 10000.0   Daniel Radcliffe   \n",
       "\n",
       "   Actor_1_Facebook_likes        gross  \\\n",
       "0                  1000.0  760505847.0   \n",
       "1                 40000.0  309404152.0   \n",
       "2                 11000.0  200074175.0   \n",
       "3                 27000.0  448130642.0   \n",
       "4                   131.0          NaN   \n",
       "5                   640.0   73058679.0   \n",
       "6                 24000.0  336530303.0   \n",
       "7                   799.0  200807262.0   \n",
       "8                 26000.0  458991599.0   \n",
       "9                 25000.0  301956980.0   \n",
       "\n",
       "                                              genres  ...  \\\n",
       "0                    Action|Adventure|Fantasy|Sci-Fi  ...   \n",
       "1                           Action|Adventure|Fantasy  ...   \n",
       "2                          Action|Adventure|Thriller  ...   \n",
       "3                                    Action|Thriller  ...   \n",
       "4                                        Documentary  ...   \n",
       "5                            Action|Adventure|Sci-Fi  ...   \n",
       "6                           Action|Adventure|Romance  ...   \n",
       "7  Adventure|Animation|Comedy|Family|Fantasy|Musi...  ...   \n",
       "8                            Action|Adventure|Sci-Fi  ...   \n",
       "9                   Adventure|Family|Fantasy|Mystery  ...   \n",
       "\n",
       "  num_user_for_reviews language  country  content_rating       budget  \\\n",
       "0               3054.0  English      USA           PG-13  237000000.0   \n",
       "1               1238.0  English      USA           PG-13  300000000.0   \n",
       "2                994.0  English       UK           PG-13  245000000.0   \n",
       "3               2701.0  English      USA           PG-13  250000000.0   \n",
       "4                  NaN      NaN      NaN             NaN          NaN   \n",
       "5                738.0  English      USA           PG-13  263700000.0   \n",
       "6               1902.0  English      USA           PG-13  258000000.0   \n",
       "7                387.0  English      USA              PG  260000000.0   \n",
       "8               1117.0  English      USA           PG-13  250000000.0   \n",
       "9                973.0  English       UK              PG  250000000.0   \n",
       "\n",
       "   title_year actor_2_facebook_likes imdb_score  aspect_ratio  \\\n",
       "0      2009.0                  936.0        7.9          1.78   \n",
       "1      2007.0                 5000.0        7.1          2.35   \n",
       "2      2015.0                  393.0        6.8          2.35   \n",
       "3      2012.0                23000.0        8.5          2.35   \n",
       "4         NaN                   12.0        7.1           NaN   \n",
       "5      2012.0                  632.0        6.6          2.35   \n",
       "6      2007.0                11000.0        6.2          2.35   \n",
       "7      2010.0                  553.0        7.8          1.85   \n",
       "8      2015.0                21000.0        7.5          2.35   \n",
       "9      2009.0                11000.0        7.5          2.35   \n",
       "\n",
       "  movie_facebook_likes;  \n",
       "0                33000;  \n",
       "1                    0;  \n",
       "2                85000;  \n",
       "3               164000;  \n",
       "4                    0;  \n",
       "5                24000;  \n",
       "6                    0;  \n",
       "7                29000;  \n",
       "8               118000;  \n",
       "9                10000;  \n",
       "\n",
       "[10 rows x 28 columns]"
      ]
     },
     "execution_count": 3,
     "metadata": {},
     "output_type": "execute_result"
    }
   ],
   "source": [
    "df.head (10)"
   ]
  },
  {
   "cell_type": "markdown",
   "id": "95e6708d-713a-4679-8be8-4837214ddb89",
   "metadata": {},
   "source": [
    "Посмотрим более подробую информацию, по типам данных и числу ненулевых полей уже можно делать выводы по пропускам, также стоит заменить названия некоторых столбцов"
   ]
  },
  {
   "cell_type": "code",
   "execution_count": 4,
   "id": "26c3fb63-2099-4412-b851-9cc52f269be6",
   "metadata": {
    "scrolled": true
   },
   "outputs": [
    {
     "name": "stdout",
     "output_type": "stream",
     "text": [
      "<class 'pandas.core.frame.DataFrame'>\n",
      "RangeIndex: 5043 entries, 0 to 5042\n",
      "Data columns (total 28 columns):\n",
      " #   Column                      Non-Null Count  Dtype  \n",
      "---  ------                      --------------  -----  \n",
      " 0   color                       5025 non-null   object \n",
      " 1   Director_Name               4872 non-null   object \n",
      " 2   num_Critic_for_reviews      4927 non-null   float64\n",
      " 3   duration                    4959 non-null   float64\n",
      " 4   director_Facebook_likes     4872 non-null   float64\n",
      " 5   actor_3_Facebook_likes      4953 non-null   float64\n",
      " 6   actor_2_name                4963 non-null   object \n",
      " 7   Actor_1_Facebook_likes      4968 non-null   float64\n",
      " 8   gross                       4104 non-null   float64\n",
      " 9   genres                      4974 non-null   object \n",
      " 10  actor_1_name                4968 non-null   object \n",
      " 11  movie_Title                 4974 non-null   object \n",
      " 12  num_voted_users             4974 non-null   float64\n",
      " 13   cast_total_facebook_likes  4974 non-null   float64\n",
      " 14  actor_3_name                4953 non-null   object \n",
      " 15  facenumber_in_poster        4961 non-null   float64\n",
      " 16  plot_keywords               4827 non-null   object \n",
      " 17  movie_imdb_link             4974 non-null   object \n",
      " 18  num_user_for_reviews        4956 non-null   float64\n",
      " 19  language                    4961 non-null   object \n",
      " 20  country                     4971 non-null   object \n",
      " 21  content_rating              4677 non-null   object \n",
      " 22  budget                      4494 non-null   float64\n",
      " 23  title_year                  4869 non-null   float64\n",
      " 24  actor_2_facebook_likes      4963 non-null   float64\n",
      " 25  imdb_score                  4974 non-null   float64\n",
      " 26  aspect_ratio                4654 non-null   float64\n",
      " 27  movie_facebook_likes;       4974 non-null   object \n",
      "dtypes: float64(15), object(13)\n",
      "memory usage: 1.1+ MB\n"
     ]
    }
   ],
   "source": [
    "df.info()"
   ]
  },
  {
   "cell_type": "markdown",
   "id": "10e9105d-1fd8-4a0b-86b3-1f02cb3964e8",
   "metadata": {},
   "source": [
    "Поменяем названия некоторых столбцов на более богоугодные"
   ]
  },
  {
   "cell_type": "code",
   "execution_count": 5,
   "id": "8f459c00-e2d2-4ef1-a9f5-d3e475a5474f",
   "metadata": {},
   "outputs": [],
   "source": [
    "df = df.rename (\n",
    "    columns = {\n",
    "        'Director_Name' : 'director_name',\n",
    "        'num_Critic_for_reviews'    : 'num_critic_for_reviews',\n",
    "        'director_Facebook_likes' : 'director_facebook_likes',\n",
    "        'actor_3_Facebook_likes'      : 'actor_3_facebook_likes',\n",
    "        'Actor_1_Facebook_likes':'actor_1_facebook_likes',\n",
    "        'movie_Title':'movie_title',\n",
    "        ' cast_total_facebook_likes':'cast_total_facebook_likes'\n",
    "    }\n",
    ")"
   ]
  },
  {
   "cell_type": "markdown",
   "id": "8ea74de9-5a72-4149-b628-9f841245980a",
   "metadata": {},
   "source": [
    "Тепрь будем работать с пропусками"
   ]
  },
  {
   "cell_type": "code",
   "execution_count": 27,
   "id": "0ae2eb46-01aa-402b-9541-a08a17b307dc",
   "metadata": {
    "scrolled": true
   },
   "outputs": [
    {
     "data": {
      "text/plain": [
       "color                        0\n",
       "director_name                0\n",
       "num_critic_for_reviews       0\n",
       "duration                     0\n",
       "director_facebook_likes      0\n",
       "actor_3_facebook_likes       0\n",
       "actor_2_name                 0\n",
       "actor_1_facebook_likes       0\n",
       "gross                        0\n",
       "genres                       0\n",
       "actor_1_name                 0\n",
       "movie_title                  0\n",
       "num_voted_users              0\n",
       "cast_total_facebook_likes    0\n",
       "actor_3_name                 0\n",
       "facenumber_in_poster         0\n",
       "plot_keywords                0\n",
       "movie_imdb_link              0\n",
       "num_user_for_reviews         0\n",
       "language                     0\n",
       "country                      0\n",
       "content_rating               0\n",
       "budget                       0\n",
       "title_year                   0\n",
       "actor_2_facebook_likes       0\n",
       "imdb_score                   0\n",
       "aspect_ratio                 0\n",
       "movie_facebook_likes;        0\n",
       "real_domestic_gross          0\n",
       "real_budget                  0\n",
       "profit                       0\n",
       "roi                          0\n",
       "dtype: int64"
      ]
     },
     "execution_count": 27,
     "metadata": {},
     "output_type": "execute_result"
    }
   ],
   "source": [
    "df.isna().sum()"
   ]
  },
  {
   "cell_type": "markdown",
   "id": "5fcb0f72-848c-4fb9-8902-1106c89391f3",
   "metadata": {},
   "source": [
    "Так как наше срванение строится прежде всего на численных (денежных) показателях, то исключим фильмы информация о которых по этим покахателям не полная"
   ]
  },
  {
   "cell_type": "code",
   "execution_count": 7,
   "id": "c07ee207-861b-4c72-9059-e3d7f1cb1aa0",
   "metadata": {},
   "outputs": [],
   "source": [
    "df=df.dropna (subset=['title_year','gross','budget'])"
   ]
  },
  {
   "cell_type": "markdown",
   "id": "c2dd2082-27d6-47cc-b976-6b0a552ce9bd",
   "metadata": {},
   "source": [
    "В пропуски в дискретных полях в оставшихся фильмах установим значение \"unknow\""
   ]
  },
  {
   "cell_type": "code",
   "execution_count": 8,
   "id": "d4d99fd8-fe41-4e5c-a0da-95e881cb86e4",
   "metadata": {},
   "outputs": [],
   "source": [
    "columns_to_replace1 =['actor_2_name', 'actor_1_name', 'color', 'actor_3_name','content_rating','language','plot_keywords']\n",
    "\n",
    "for row in columns_to_replace1:\n",
    "    df[row] = df[row].fillna('unknown')"
   ]
  },
  {
   "cell_type": "code",
   "execution_count": null,
   "id": "8a5f9c58-9737-433d-9d3f-e2b353a3ff72",
   "metadata": {},
   "outputs": [],
   "source": [
    "В остальных столбцам дозаполним пропуски средними значениями по столбцам"
   ]
  },
  {
   "cell_type": "code",
   "execution_count": 9,
   "id": "38cbf019-e202-4a3c-923b-68a2431c96e2",
   "metadata": {},
   "outputs": [],
   "source": [
    "columns_to_replace2 =['aspect_ratio','actor_2_facebook_likes','facenumber_in_poster','actor_1_facebook_likes','actor_3_facebook_likes','duration','num_critic_for_reviews']\n",
    "\n",
    "for row in columns_to_replace2:\n",
    "    df[row] = df[row].fillna( df[row].mean())"
   ]
  },
  {
   "cell_type": "markdown",
   "id": "3fd569a7-38f0-4dfe-a1c9-a4775fb2bf47",
   "metadata": {},
   "source": [
    "Проверим что пропусков не осталось"
   ]
  },
  {
   "cell_type": "code",
   "execution_count": 27,
   "id": "ed7737ef-1ab3-48a4-9a92-fcdc2833b6d0",
   "metadata": {
    "scrolled": true
   },
   "outputs": [
    {
     "data": {
      "text/plain": [
       "color                        0\n",
       "director_name                0\n",
       "num_critic_for_reviews       0\n",
       "duration                     0\n",
       "director_facebook_likes      0\n",
       "actor_3_facebook_likes       0\n",
       "actor_2_name                 0\n",
       "actor_1_facebook_likes       0\n",
       "gross                        0\n",
       "genres                       0\n",
       "actor_1_name                 0\n",
       "movie_title                  0\n",
       "num_voted_users              0\n",
       "cast_total_facebook_likes    0\n",
       "actor_3_name                 0\n",
       "facenumber_in_poster         0\n",
       "plot_keywords                0\n",
       "movie_imdb_link              0\n",
       "num_user_for_reviews         0\n",
       "language                     0\n",
       "country                      0\n",
       "content_rating               0\n",
       "budget                       0\n",
       "title_year                   0\n",
       "actor_2_facebook_likes       0\n",
       "imdb_score                   0\n",
       "aspect_ratio                 0\n",
       "movie_facebook_likes;        0\n",
       "real_domestic_gross          0\n",
       "real_budget                  0\n",
       "profit                       0\n",
       "roi                          0\n",
       "dtype: int64"
      ]
     },
     "execution_count": 27,
     "metadata": {},
     "output_type": "execute_result"
    }
   ],
   "source": [
    "df.isna().sum()"
   ]
  },
  {
   "cell_type": "markdown",
   "id": "d00016b4-fed1-4abf-9bc7-4ab4bb5d29e6",
   "metadata": {},
   "source": [
    "Теперь проверим наличие дубликатов"
   ]
  },
  {
   "cell_type": "code",
   "execution_count": 10,
   "id": "eff13da4-8fa3-40b7-beba-801b6066476d",
   "metadata": {},
   "outputs": [
    {
     "data": {
      "text/plain": [
       "34"
      ]
     },
     "execution_count": 10,
     "metadata": {},
     "output_type": "execute_result"
    }
   ],
   "source": [
    "df.duplicated().sum()"
   ]
  },
  {
   "cell_type": "markdown",
   "id": "2c08cef8-488d-4ac6-b334-2e5a1d80b912",
   "metadata": {},
   "source": [
    "Удаляем их"
   ]
  },
  {
   "cell_type": "code",
   "execution_count": 11,
   "id": "b466c5db-c59e-4c51-8627-985c8c409570",
   "metadata": {},
   "outputs": [],
   "source": [
    "df = df.drop_duplicates()"
   ]
  },
  {
   "cell_type": "markdown",
   "id": "4edefb6f-ff40-492a-a0bf-169736a0f113",
   "metadata": {},
   "source": [
    "Проверяем теперь"
   ]
  },
  {
   "cell_type": "code",
   "execution_count": 12,
   "id": "8b8ea847-9dc2-42c6-afeb-74109a8e5ac0",
   "metadata": {},
   "outputs": [
    {
     "data": {
      "text/plain": [
       "0"
      ]
     },
     "execution_count": 12,
     "metadata": {},
     "output_type": "execute_result"
    }
   ],
   "source": [
    "df.duplicated().sum()"
   ]
  },
  {
   "cell_type": "markdown",
   "id": "454800b2-eb6b-414d-9e77-f09275ac256f",
   "metadata": {},
   "source": [
    "Хорошо, тепрь проверим наличие неявных дубликатов по таким столбцам как \"color\", \"language\" и \"country\""
   ]
  },
  {
   "cell_type": "code",
   "execution_count": 13,
   "id": "d1fc9cf5-427b-456a-a47d-1cb82c8a8dfa",
   "metadata": {},
   "outputs": [
    {
     "data": {
      "text/plain": [
       "[' Black and White', 'Color', 'Colour', 'color', 'unknown']"
      ]
     },
     "execution_count": 13,
     "metadata": {},
     "output_type": "execute_result"
    }
   ],
   "source": [
    "sorted (df['color'].unique())"
   ]
  },
  {
   "cell_type": "code",
   "execution_count": 14,
   "id": "1bdefb0d-bddb-4ad2-97e5-320223d4b71e",
   "metadata": {},
   "outputs": [
    {
     "data": {
      "text/plain": [
       "['Aboriginal',\n",
       " 'Arabic',\n",
       " 'Aramaic',\n",
       " 'Bosnian',\n",
       " 'Cantonese',\n",
       " 'Czech',\n",
       " 'Danish',\n",
       " 'Dari',\n",
       " 'Dutch',\n",
       " 'Dzongkha',\n",
       " 'English',\n",
       " 'Filipino',\n",
       " 'French',\n",
       " 'German',\n",
       " 'Hebrew',\n",
       " 'Hindi',\n",
       " 'Hungarian',\n",
       " 'Icelandic',\n",
       " 'Indonesian',\n",
       " 'Italian',\n",
       " 'Japanese',\n",
       " 'Kazakh',\n",
       " 'Korean',\n",
       " 'Mandarin',\n",
       " 'Maya',\n",
       " 'Mongolian',\n",
       " 'Norwegian',\n",
       " 'Persian',\n",
       " 'Portuguese',\n",
       " 'Russian',\n",
       " 'Spanish',\n",
       " 'Swedish',\n",
       " 'Telugu',\n",
       " 'Thai',\n",
       " 'Vietnamese',\n",
       " 'Zulu',\n",
       " 'unknown']"
      ]
     },
     "execution_count": 14,
     "metadata": {},
     "output_type": "execute_result"
    }
   ],
   "source": [
    "sorted (df['language'].unique())"
   ]
  },
  {
   "cell_type": "code",
   "execution_count": 15,
   "id": "abf58a37-02bb-4707-b2d7-1693690bf965",
   "metadata": {
    "scrolled": true
   },
   "outputs": [
    {
     "data": {
      "text/plain": [
       "['Afghanistan',\n",
       " 'Argentina',\n",
       " 'Aruba',\n",
       " 'Australia',\n",
       " 'Belgium',\n",
       " 'Brazil',\n",
       " 'Canada',\n",
       " 'Chile',\n",
       " 'China',\n",
       " 'Colombia',\n",
       " 'Czech Republic',\n",
       " 'Denmark',\n",
       " 'Finland',\n",
       " 'France',\n",
       " 'Georgia',\n",
       " 'Germany',\n",
       " 'Greece',\n",
       " 'Hong Kong',\n",
       " 'Hungary',\n",
       " 'Iceland',\n",
       " 'India',\n",
       " 'Indonesia',\n",
       " 'Iran',\n",
       " 'Ireland',\n",
       " 'Israel',\n",
       " 'Italy',\n",
       " 'Japan',\n",
       " 'Mexico',\n",
       " 'Netherlands',\n",
       " 'New Line',\n",
       " 'New Zealand',\n",
       " 'Norway',\n",
       " 'Official site',\n",
       " 'Peru',\n",
       " 'Philippines',\n",
       " 'Poland',\n",
       " 'Romania',\n",
       " 'Russia',\n",
       " 'South Africa',\n",
       " 'South Korea',\n",
       " 'Spain',\n",
       " 'Sweden',\n",
       " 'Taiwan',\n",
       " 'Thailand',\n",
       " 'UK',\n",
       " 'USA',\n",
       " 'West Germany']"
      ]
     },
     "execution_count": 15,
     "metadata": {},
     "output_type": "execute_result"
    }
   ],
   "source": [
    "sorted (df['country'].unique())"
   ]
  },
  {
   "cell_type": "markdown",
   "id": "6125715b-61b5-498d-8e13-f89309f61264",
   "metadata": {},
   "source": [
    "Неявные дубликаты обнаружились только в столбце \"color\", приведём всё в единый формат"
   ]
  },
  {
   "cell_type": "code",
   "execution_count": 16,
   "id": "cdc5eaaf-1a80-4bdc-ac1d-9b225b1ea1eb",
   "metadata": {},
   "outputs": [],
   "source": [
    "dublicates=['Colour','color']\n",
    "for wrong_genre in dublicates:\n",
    "        df['color'] = df['color'].replace(wrong_genre, 'Color')"
   ]
  },
  {
   "cell_type": "markdown",
   "id": "42c2982e-5ba7-4724-9ba1-557284af97c4",
   "metadata": {},
   "source": [
    "Возьмём с сайта данные о том как изменялась стоимость доллара (код страницы сайта хранится в txt файле тк на этот сайт можно зайти только с включённым VPN) и на основе этой информации построим таблицу о том как изменялась стоимость доллара со временем"
   ]
  },
  {
   "cell_type": "code",
   "execution_count": 17,
   "id": "9d21699c-cbc3-4989-a395-c7979d2ea0fc",
   "metadata": {},
   "outputs": [
    {
     "data": {
      "text/html": [
       "<div>\n",
       "<style scoped>\n",
       "    .dataframe tbody tr th:only-of-type {\n",
       "        vertical-align: middle;\n",
       "    }\n",
       "\n",
       "    .dataframe tbody tr th {\n",
       "        vertical-align: top;\n",
       "    }\n",
       "\n",
       "    .dataframe thead th {\n",
       "        text-align: right;\n",
       "    }\n",
       "</style>\n",
       "<table border=\"1\" class=\"dataframe\">\n",
       "  <thead>\n",
       "    <tr style=\"text-align: right;\">\n",
       "      <th></th>\n",
       "      <th>year</th>\n",
       "      <th>avg_annual_cpi</th>\n",
       "    </tr>\n",
       "  </thead>\n",
       "  <tbody>\n",
       "    <tr>\n",
       "      <th>0</th>\n",
       "      <td>1913</td>\n",
       "      <td>9.9</td>\n",
       "    </tr>\n",
       "    <tr>\n",
       "      <th>1</th>\n",
       "      <td>1914</td>\n",
       "      <td>10.0</td>\n",
       "    </tr>\n",
       "    <tr>\n",
       "      <th>2</th>\n",
       "      <td>1915</td>\n",
       "      <td>10.1</td>\n",
       "    </tr>\n",
       "    <tr>\n",
       "      <th>3</th>\n",
       "      <td>1916</td>\n",
       "      <td>10.9</td>\n",
       "    </tr>\n",
       "    <tr>\n",
       "      <th>4</th>\n",
       "      <td>1917</td>\n",
       "      <td>12.8</td>\n",
       "    </tr>\n",
       "  </tbody>\n",
       "</table>\n",
       "</div>"
      ],
      "text/plain": [
       "   year  avg_annual_cpi\n",
       "0  1913             9.9\n",
       "1  1914            10.0\n",
       "2  1915            10.1\n",
       "3  1916            10.9\n",
       "4  1917            12.8"
      ]
     },
     "execution_count": 17,
     "metadata": {},
     "output_type": "execute_result"
    }
   ],
   "source": [
    "r=open(\"D:\\ML\\data\\inflation.txt\")\n",
    "data=r.read()\n",
    "r.close()\n",
    "soup=BeautifulSoup(data,'html.parser')\n",
    "\n",
    "table=soup.find('table')\n",
    "rows = table.tbody.findAll('tr')\n",
    "\n",
    "years=[]\n",
    "cpis=[]\n",
    "\n",
    "for row in rows:\n",
    "    year=row.findAll('td')[0].get_text()\n",
    "    if year.isdigit() and int(year)<2017:\n",
    "        years.append(int(year))\n",
    "        cpis.append(float(row.findAll('td')[13].get_text()))\n",
    "\n",
    "cpi_table=pd.DataFrame({\n",
    "    \"year\":years,\n",
    "    \"avg_annual_cpi\":cpis\n",
    "})\n",
    "cpi_table.head()"
   ]
  },
  {
   "cell_type": "markdown",
   "id": "ed2641c9-a1e5-4cc0-9e0d-aad3a83b9ac5",
   "metadata": {},
   "source": [
    "Создадим функцию которая на основании года конвертирует \"старые\" доллары в \"новые\""
   ]
  },
  {
   "cell_type": "code",
   "execution_count": 18,
   "id": "1b4630e6-a7b0-4bed-9b83-35c204b9e899",
   "metadata": {},
   "outputs": [],
   "source": [
    "def get_real_value(nominal_atm, old_cpi, new_cpi):\n",
    "    real_value=(nominal_atm*new_cpi)/old_cpi\n",
    "    return real_value"
   ]
  },
  {
   "cell_type": "markdown",
   "id": "7938ff31-477a-4997-bc07-6e8c4e596386",
   "metadata": {},
   "source": [
    "За совремееный доллар возьмём доллар 2016 года"
   ]
  },
  {
   "cell_type": "code",
   "execution_count": 19,
   "id": "94e46c54-60ca-4914-88a3-78a62324fa28",
   "metadata": {},
   "outputs": [
    {
     "name": "stderr",
     "output_type": "stream",
     "text": [
      "C:\\Users\\ov00v\\AppData\\Local\\Temp\\ipykernel_14204\\2011872491.py:1: FutureWarning: Calling float on a single element Series is deprecated and will raise a TypeError in the future. Use float(ser.iloc[0]) instead\n",
      "  CPI_2016=float(cpi_table[cpi_table['year']==2016]['avg_annual_cpi'])\n"
     ]
    }
   ],
   "source": [
    "CPI_2016=float(cpi_table[cpi_table['year']==2016]['avg_annual_cpi'])"
   ]
  },
  {
   "cell_type": "markdown",
   "id": "bf5d4ce3-e309-40b1-a204-8c56d8bca186",
   "metadata": {},
   "source": [
    "Добавим к таблице столбцы с бюджетом и сборами в пересчёте на современные доллары"
   ]
  },
  {
   "cell_type": "code",
   "execution_count": 23,
   "id": "b22b6d40-aa6f-471c-a3dd-ea17df909ba2",
   "metadata": {},
   "outputs": [
    {
     "name": "stderr",
     "output_type": "stream",
     "text": [
      "C:\\Users\\ov00v\\AppData\\Local\\Temp\\ipykernel_14204\\2271251183.py:8: FutureWarning: Calling float on a single element Series is deprecated and will raise a TypeError in the future. Use float(ser.iloc[0]) instead\n",
      "  cpi=float(cpi_table[cpi_table['year']==int(year)]['avg_annual_cpi'])\n"
     ]
    }
   ],
   "source": [
    "real_domestic_gross=[]\n",
    "real_budget_values=[]\n",
    "\n",
    "for index, row in df.iterrows():\n",
    "    gross=row['gross']\n",
    "    budget=row['budget']\n",
    "    year=row['title_year']\n",
    "    cpi=float(cpi_table[cpi_table['year']==int(year)]['avg_annual_cpi'])\n",
    "\n",
    "    real_gross=get_real_value(gross,cpi,CPI_2016)\n",
    "    real_budget=get_real_value(budget,cpi,CPI_2016)\n",
    "    real_domestic_gross.append(real_gross)\n",
    "    real_budget_values.append(real_budget)\n",
    "df[\"real_domestic_gross\"]=real_domestic_gross\n",
    "df[\"real_budget\"]=real_budget_values"
   ]
  },
  {
   "cell_type": "markdown",
   "id": "2582082b-9506-4f67-817c-779493d62526",
   "metadata": {},
   "source": [
    "Также добавим столбцы с прибылью (валовой и процентной)"
   ]
  },
  {
   "cell_type": "code",
   "execution_count": 26,
   "id": "ea1b161f-598d-4a59-87f0-9354a744274b",
   "metadata": {},
   "outputs": [],
   "source": [
    "profits=[]\n",
    "roi_vals=[]\n",
    "\n",
    "for index, row in df.iterrows():\n",
    "    profit=row['real_domestic_gross']-row['real_budget']\n",
    "    budget=row['real_budget']\n",
    "    num=profit-budget\n",
    "    den=budget\n",
    "    roi=(num/den)*100\n",
    "\n",
    "    profits.append(profit)\n",
    "    roi_vals.append(roi)\n",
    "\n",
    "df['profit']=profits\n",
    "df['roi']=roi_vals"
   ]
  },
  {
   "cell_type": "markdown",
   "id": "2b428ced-e00f-4031-9088-685bb730e99a",
   "metadata": {},
   "source": [
    "Теперь можно переходить к гипотезам\n",
    "Первая гипотеза:\n",
    "Фильмы выпущенные начиная с 2000 года имиют суммарный больший бюджет чем все чёрно-белые фильмы в истории"
   ]
  },
  {
   "cell_type": "code",
   "execution_count": 69,
   "id": "98e6146a-b8e2-4e8a-a821-d85cbd709e0b",
   "metadata": {
    "scrolled": true
   },
   "outputs": [
    {
     "name": "stdout",
     "output_type": "stream",
     "text": [
      "True\n"
     ]
    }
   ],
   "source": [
    "print(df.loc[df['color']==' Black and White']['real_budget'].sum()<df.loc[df['title_year']>=2000]['real_budget'].sum())"
   ]
  },
  {
   "cell_type": "markdown",
   "id": "048b0bad-0639-4044-8e81-dbe8f115c2f6",
   "metadata": {},
   "source": [
    "Гипотеза подтверждена"
   ]
  },
  {
   "cell_type": "markdown",
   "id": "81e0616a-5fec-4324-a420-d17e0cd7b7e6",
   "metadata": {},
   "source": [
    "Вторая гипотеза:\n",
    "Фильмы с Кристианом Бейлом в главной роли более кассовые (имеют большие сборы) чем фильмы с Райаном Гослиногом в главной роли "
   ]
  },
  {
   "cell_type": "code",
   "execution_count": 70,
   "id": "849e260e-cbe0-4dbf-9522-44b52a1a39d1",
   "metadata": {},
   "outputs": [
    {
     "data": {
      "text/plain": [
       "True"
      ]
     },
     "execution_count": 70,
     "metadata": {},
     "output_type": "execute_result"
    }
   ],
   "source": [
    "df.loc[df['actor_1_name']==\"Christian Bale\"]['real_domestic_gross'].sum()>df.loc[df['actor_1_name']==\"Ryan Gosling\"]['real_domestic_gross'].sum()"
   ]
  },
  {
   "cell_type": "markdown",
   "id": "41b24388-1349-4961-a6c3-f47c8d26d6de",
   "metadata": {},
   "source": [
    "Гипотеза подтвердилась"
   ]
  },
  {
   "cell_type": "markdown",
   "id": "c0599717-e8b8-4c6a-b43b-94671f0be15a",
   "metadata": {},
   "source": [
    "Третья гипотеза:\n",
    "В среднем французские комедии более затратные в производстве чем японские боевики"
   ]
  },
  {
   "cell_type": "code",
   "execution_count": 72,
   "id": "f8ec6cbe-7900-4127-8210-c154ddf42ae9",
   "metadata": {},
   "outputs": [
    {
     "data": {
      "text/plain": [
       "False"
      ]
     },
     "execution_count": 72,
     "metadata": {},
     "output_type": "execute_result"
    }
   ],
   "source": [
    "df.loc[df['country']=='France'].loc[df['genres'].str.contains(\"Comedy\") ]['real_budget'].mean()>\\\n",
    "df.loc[df['country']=='Japan'].loc[df['genres'].str.contains(\"Action\") ]['real_budget'].mean()"
   ]
  },
  {
   "cell_type": "markdown",
   "id": "bc71b179-428d-40cd-b617-1ac2d349e939",
   "metadata": {},
   "source": [
    "Гипотеза опровержена"
   ]
  },
  {
   "cell_type": "code",
   "execution_count": 79,
   "id": "9c1f6227-ae7f-40dd-a4b8-5958219277fa",
   "metadata": {},
   "outputs": [],
   "source": [
    "cpi_table.to_csv(r'D:\\ML\\data\\Lab_Ovch_CPI.csv' ,index=False)\n",
    "df.to_csv(r'D:\\ML\\data\\Lab1_Ovch-222.csv' ,index=False)"
   ]
  },
  {
   "cell_type": "code",
   "execution_count": null,
   "id": "38031036-3232-4a61-adfe-a205ce2e016a",
   "metadata": {},
   "outputs": [],
   "source": []
  }
 ],
 "metadata": {
  "kernelspec": {
   "display_name": "Python 3 (ipykernel)",
   "language": "python",
   "name": "python3"
  },
  "language_info": {
   "codemirror_mode": {
    "name": "ipython",
    "version": 3
   },
   "file_extension": ".py",
   "mimetype": "text/x-python",
   "name": "python",
   "nbconvert_exporter": "python",
   "pygments_lexer": "ipython3",
   "version": "3.9.13"
  }
 },
 "nbformat": 4,
 "nbformat_minor": 5
}
