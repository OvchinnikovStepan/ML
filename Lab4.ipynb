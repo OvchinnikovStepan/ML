{
 "cells": [
  {
   "cell_type": "code",
   "execution_count": 1,
   "id": "6a4a832e-755b-422d-ba5d-73c5a844aedd",
   "metadata": {},
   "outputs": [],
   "source": [
    "import pandas as pd\n",
    "import matplotlib.pyplot as plt\n",
    "import numpy as np\n",
    "import seaborn as sns\n",
    "import warnings\n",
    "from sklearn.linear_model import LogisticRegression"
   ]
  },
  {
   "cell_type": "code",
   "execution_count": 2,
   "id": "2e3fe258-3466-4daf-9d1e-10e2e4407696",
   "metadata": {},
   "outputs": [],
   "source": [
    "data = [\n",
    "        ('солнечно', True),\n",
    "        ('снег', False),\n",
    "        ('облачно', False),\n",
    "        ('дождь', False),\n",
    "        ('солнечно', True),\n",
    "        ('снег', False),\n",
    "        ('облачно', True),\n",
    "        ('снег', False),\n",
    "        ('солнечно', False),\n",
    "        ('облачно', True),\n",
    "        ('снег', True),\n",
    "        ('солнечно', True),\n",
    "        ('дождь', False),\n",
    "        ('дождь', True),\n",
    "        ('облачно', True),\n",
    "]"
   ]
  },
  {
   "cell_type": "code",
   "execution_count": 3,
   "id": "9eacc12b-db36-4a68-a22b-6360259e36a6",
   "metadata": {},
   "outputs": [
    {
     "data": {
      "text/plain": [
       "0.125"
      ]
     },
     "execution_count": 3,
     "metadata": {},
     "output_type": "execute_result"
    }
   ],
   "source": [
    "probality=(1/3)/(8/15)*(1/5)\n",
    "probality"
   ]
  },
  {
   "cell_type": "markdown",
   "id": "7083a652-a773-4ae3-8a4c-3825b704d591",
   "metadata": {},
   "source": [
    "Задание 2"
   ]
  },
  {
   "cell_type": "code",
   "execution_count": 4,
   "id": "3d873913-f333-4cc4-b56e-fb9e0168dabc",
   "metadata": {},
   "outputs": [],
   "source": [
    "data= pd.read_csv('D:\\ML\\data\\diabetes.csv')"
   ]
  },
  {
   "cell_type": "code",
   "execution_count": 5,
   "id": "86bd8af1-dbce-4c1b-a1f3-bdeb5b2283c4",
   "metadata": {},
   "outputs": [
    {
     "name": "stdout",
     "output_type": "stream",
     "text": [
      "<class 'pandas.core.frame.DataFrame'>\n",
      "RangeIndex: 253680 entries, 0 to 253679\n",
      "Data columns (total 22 columns):\n",
      " #   Column                Non-Null Count   Dtype  \n",
      "---  ------                --------------   -----  \n",
      " 0   Diabetes_012          253680 non-null  float64\n",
      " 1   HighBP                253680 non-null  float64\n",
      " 2   HighChol              253680 non-null  float64\n",
      " 3   CholCheck             253680 non-null  float64\n",
      " 4   BMI                   253680 non-null  float64\n",
      " 5   Smoker                253680 non-null  float64\n",
      " 6   Stroke                253680 non-null  float64\n",
      " 7   HeartDiseaseorAttack  253680 non-null  float64\n",
      " 8   PhysActivity          253680 non-null  float64\n",
      " 9   Fruits                253680 non-null  float64\n",
      " 10  Veggies               253680 non-null  float64\n",
      " 11  HvyAlcoholConsump     253680 non-null  float64\n",
      " 12  AnyHealthcare         253680 non-null  float64\n",
      " 13  NoDocbcCost           253680 non-null  float64\n",
      " 14  GenHlth               253680 non-null  float64\n",
      " 15  MentHlth              253680 non-null  float64\n",
      " 16  PhysHlth              253680 non-null  float64\n",
      " 17  DiffWalk              253680 non-null  float64\n",
      " 18  Sex                   253680 non-null  float64\n",
      " 19  Age                   253680 non-null  float64\n",
      " 20  Education             253680 non-null  float64\n",
      " 21  Income                253680 non-null  float64\n",
      "dtypes: float64(22)\n",
      "memory usage: 42.6 MB\n"
     ]
    }
   ],
   "source": [
    "data.info()"
   ]
  },
  {
   "cell_type": "code",
   "execution_count": 6,
   "id": "03dbf760-8a8c-4c72-b353-65eb4a0417d0",
   "metadata": {},
   "outputs": [
    {
     "data": {
      "text/html": [
       "<div>\n",
       "<style scoped>\n",
       "    .dataframe tbody tr th:only-of-type {\n",
       "        vertical-align: middle;\n",
       "    }\n",
       "\n",
       "    .dataframe tbody tr th {\n",
       "        vertical-align: top;\n",
       "    }\n",
       "\n",
       "    .dataframe thead th {\n",
       "        text-align: right;\n",
       "    }\n",
       "</style>\n",
       "<table border=\"1\" class=\"dataframe\">\n",
       "  <thead>\n",
       "    <tr style=\"text-align: right;\">\n",
       "      <th></th>\n",
       "      <th>Diabetes_012</th>\n",
       "      <th>HighBP</th>\n",
       "      <th>HighChol</th>\n",
       "      <th>CholCheck</th>\n",
       "      <th>BMI</th>\n",
       "      <th>Smoker</th>\n",
       "      <th>Stroke</th>\n",
       "      <th>HeartDiseaseorAttack</th>\n",
       "      <th>PhysActivity</th>\n",
       "      <th>Fruits</th>\n",
       "      <th>...</th>\n",
       "      <th>AnyHealthcare</th>\n",
       "      <th>NoDocbcCost</th>\n",
       "      <th>GenHlth</th>\n",
       "      <th>MentHlth</th>\n",
       "      <th>PhysHlth</th>\n",
       "      <th>DiffWalk</th>\n",
       "      <th>Sex</th>\n",
       "      <th>Age</th>\n",
       "      <th>Education</th>\n",
       "      <th>Income</th>\n",
       "    </tr>\n",
       "  </thead>\n",
       "  <tbody>\n",
       "    <tr>\n",
       "      <th>0</th>\n",
       "      <td>0.0</td>\n",
       "      <td>1.0</td>\n",
       "      <td>1.0</td>\n",
       "      <td>1.0</td>\n",
       "      <td>40.0</td>\n",
       "      <td>1.0</td>\n",
       "      <td>0.0</td>\n",
       "      <td>0.0</td>\n",
       "      <td>0.0</td>\n",
       "      <td>0.0</td>\n",
       "      <td>...</td>\n",
       "      <td>1.0</td>\n",
       "      <td>0.0</td>\n",
       "      <td>5.0</td>\n",
       "      <td>18.0</td>\n",
       "      <td>15.0</td>\n",
       "      <td>1.0</td>\n",
       "      <td>0.0</td>\n",
       "      <td>9.0</td>\n",
       "      <td>4.0</td>\n",
       "      <td>3.0</td>\n",
       "    </tr>\n",
       "    <tr>\n",
       "      <th>1</th>\n",
       "      <td>0.0</td>\n",
       "      <td>0.0</td>\n",
       "      <td>0.0</td>\n",
       "      <td>0.0</td>\n",
       "      <td>25.0</td>\n",
       "      <td>1.0</td>\n",
       "      <td>0.0</td>\n",
       "      <td>0.0</td>\n",
       "      <td>1.0</td>\n",
       "      <td>0.0</td>\n",
       "      <td>...</td>\n",
       "      <td>0.0</td>\n",
       "      <td>1.0</td>\n",
       "      <td>3.0</td>\n",
       "      <td>0.0</td>\n",
       "      <td>0.0</td>\n",
       "      <td>0.0</td>\n",
       "      <td>0.0</td>\n",
       "      <td>7.0</td>\n",
       "      <td>6.0</td>\n",
       "      <td>1.0</td>\n",
       "    </tr>\n",
       "    <tr>\n",
       "      <th>2</th>\n",
       "      <td>0.0</td>\n",
       "      <td>1.0</td>\n",
       "      <td>1.0</td>\n",
       "      <td>1.0</td>\n",
       "      <td>28.0</td>\n",
       "      <td>0.0</td>\n",
       "      <td>0.0</td>\n",
       "      <td>0.0</td>\n",
       "      <td>0.0</td>\n",
       "      <td>1.0</td>\n",
       "      <td>...</td>\n",
       "      <td>1.0</td>\n",
       "      <td>1.0</td>\n",
       "      <td>5.0</td>\n",
       "      <td>30.0</td>\n",
       "      <td>30.0</td>\n",
       "      <td>1.0</td>\n",
       "      <td>0.0</td>\n",
       "      <td>9.0</td>\n",
       "      <td>4.0</td>\n",
       "      <td>8.0</td>\n",
       "    </tr>\n",
       "    <tr>\n",
       "      <th>3</th>\n",
       "      <td>0.0</td>\n",
       "      <td>1.0</td>\n",
       "      <td>0.0</td>\n",
       "      <td>1.0</td>\n",
       "      <td>27.0</td>\n",
       "      <td>0.0</td>\n",
       "      <td>0.0</td>\n",
       "      <td>0.0</td>\n",
       "      <td>1.0</td>\n",
       "      <td>1.0</td>\n",
       "      <td>...</td>\n",
       "      <td>1.0</td>\n",
       "      <td>0.0</td>\n",
       "      <td>2.0</td>\n",
       "      <td>0.0</td>\n",
       "      <td>0.0</td>\n",
       "      <td>0.0</td>\n",
       "      <td>0.0</td>\n",
       "      <td>11.0</td>\n",
       "      <td>3.0</td>\n",
       "      <td>6.0</td>\n",
       "    </tr>\n",
       "    <tr>\n",
       "      <th>4</th>\n",
       "      <td>0.0</td>\n",
       "      <td>1.0</td>\n",
       "      <td>1.0</td>\n",
       "      <td>1.0</td>\n",
       "      <td>24.0</td>\n",
       "      <td>0.0</td>\n",
       "      <td>0.0</td>\n",
       "      <td>0.0</td>\n",
       "      <td>1.0</td>\n",
       "      <td>1.0</td>\n",
       "      <td>...</td>\n",
       "      <td>1.0</td>\n",
       "      <td>0.0</td>\n",
       "      <td>2.0</td>\n",
       "      <td>3.0</td>\n",
       "      <td>0.0</td>\n",
       "      <td>0.0</td>\n",
       "      <td>0.0</td>\n",
       "      <td>11.0</td>\n",
       "      <td>5.0</td>\n",
       "      <td>4.0</td>\n",
       "    </tr>\n",
       "  </tbody>\n",
       "</table>\n",
       "<p>5 rows × 22 columns</p>\n",
       "</div>"
      ],
      "text/plain": [
       "   Diabetes_012  HighBP  HighChol  CholCheck   BMI  Smoker  Stroke  \\\n",
       "0           0.0     1.0       1.0        1.0  40.0     1.0     0.0   \n",
       "1           0.0     0.0       0.0        0.0  25.0     1.0     0.0   \n",
       "2           0.0     1.0       1.0        1.0  28.0     0.0     0.0   \n",
       "3           0.0     1.0       0.0        1.0  27.0     0.0     0.0   \n",
       "4           0.0     1.0       1.0        1.0  24.0     0.0     0.0   \n",
       "\n",
       "   HeartDiseaseorAttack  PhysActivity  Fruits  ...  AnyHealthcare  \\\n",
       "0                   0.0           0.0     0.0  ...            1.0   \n",
       "1                   0.0           1.0     0.0  ...            0.0   \n",
       "2                   0.0           0.0     1.0  ...            1.0   \n",
       "3                   0.0           1.0     1.0  ...            1.0   \n",
       "4                   0.0           1.0     1.0  ...            1.0   \n",
       "\n",
       "   NoDocbcCost  GenHlth  MentHlth  PhysHlth  DiffWalk  Sex   Age  Education  \\\n",
       "0          0.0      5.0      18.0      15.0       1.0  0.0   9.0        4.0   \n",
       "1          1.0      3.0       0.0       0.0       0.0  0.0   7.0        6.0   \n",
       "2          1.0      5.0      30.0      30.0       1.0  0.0   9.0        4.0   \n",
       "3          0.0      2.0       0.0       0.0       0.0  0.0  11.0        3.0   \n",
       "4          0.0      2.0       3.0       0.0       0.0  0.0  11.0        5.0   \n",
       "\n",
       "   Income  \n",
       "0     3.0  \n",
       "1     1.0  \n",
       "2     8.0  \n",
       "3     6.0  \n",
       "4     4.0  \n",
       "\n",
       "[5 rows x 22 columns]"
      ]
     },
     "execution_count": 6,
     "metadata": {},
     "output_type": "execute_result"
    }
   ],
   "source": [
    "data.head()"
   ]
  },
  {
   "cell_type": "code",
   "execution_count": 7,
   "id": "d9aeb35a-c54a-4289-afeb-487034dadcb3",
   "metadata": {},
   "outputs": [
    {
     "data": {
      "text/html": [
       "<div>\n",
       "<style scoped>\n",
       "    .dataframe tbody tr th:only-of-type {\n",
       "        vertical-align: middle;\n",
       "    }\n",
       "\n",
       "    .dataframe tbody tr th {\n",
       "        vertical-align: top;\n",
       "    }\n",
       "\n",
       "    .dataframe thead th {\n",
       "        text-align: right;\n",
       "    }\n",
       "</style>\n",
       "<table border=\"1\" class=\"dataframe\">\n",
       "  <thead>\n",
       "    <tr style=\"text-align: right;\">\n",
       "      <th></th>\n",
       "      <th>Diabetes_012</th>\n",
       "      <th>HighBP</th>\n",
       "      <th>HighChol</th>\n",
       "      <th>CholCheck</th>\n",
       "      <th>BMI</th>\n",
       "      <th>Smoker</th>\n",
       "      <th>Stroke</th>\n",
       "      <th>HeartDiseaseorAttack</th>\n",
       "      <th>PhysActivity</th>\n",
       "      <th>Fruits</th>\n",
       "      <th>...</th>\n",
       "      <th>AnyHealthcare</th>\n",
       "      <th>NoDocbcCost</th>\n",
       "      <th>GenHlth</th>\n",
       "      <th>MentHlth</th>\n",
       "      <th>PhysHlth</th>\n",
       "      <th>DiffWalk</th>\n",
       "      <th>Sex</th>\n",
       "      <th>Age</th>\n",
       "      <th>Education</th>\n",
       "      <th>Income</th>\n",
       "    </tr>\n",
       "  </thead>\n",
       "  <tbody>\n",
       "    <tr>\n",
       "      <th>0</th>\n",
       "      <td>0</td>\n",
       "      <td>1</td>\n",
       "      <td>1</td>\n",
       "      <td>1</td>\n",
       "      <td>40</td>\n",
       "      <td>1</td>\n",
       "      <td>0</td>\n",
       "      <td>0</td>\n",
       "      <td>0</td>\n",
       "      <td>0</td>\n",
       "      <td>...</td>\n",
       "      <td>1</td>\n",
       "      <td>0</td>\n",
       "      <td>5</td>\n",
       "      <td>18</td>\n",
       "      <td>15</td>\n",
       "      <td>1</td>\n",
       "      <td>0</td>\n",
       "      <td>9</td>\n",
       "      <td>4</td>\n",
       "      <td>3</td>\n",
       "    </tr>\n",
       "    <tr>\n",
       "      <th>1</th>\n",
       "      <td>0</td>\n",
       "      <td>0</td>\n",
       "      <td>0</td>\n",
       "      <td>0</td>\n",
       "      <td>25</td>\n",
       "      <td>1</td>\n",
       "      <td>0</td>\n",
       "      <td>0</td>\n",
       "      <td>1</td>\n",
       "      <td>0</td>\n",
       "      <td>...</td>\n",
       "      <td>0</td>\n",
       "      <td>1</td>\n",
       "      <td>3</td>\n",
       "      <td>0</td>\n",
       "      <td>0</td>\n",
       "      <td>0</td>\n",
       "      <td>0</td>\n",
       "      <td>7</td>\n",
       "      <td>6</td>\n",
       "      <td>1</td>\n",
       "    </tr>\n",
       "    <tr>\n",
       "      <th>2</th>\n",
       "      <td>0</td>\n",
       "      <td>1</td>\n",
       "      <td>1</td>\n",
       "      <td>1</td>\n",
       "      <td>28</td>\n",
       "      <td>0</td>\n",
       "      <td>0</td>\n",
       "      <td>0</td>\n",
       "      <td>0</td>\n",
       "      <td>1</td>\n",
       "      <td>...</td>\n",
       "      <td>1</td>\n",
       "      <td>1</td>\n",
       "      <td>5</td>\n",
       "      <td>30</td>\n",
       "      <td>30</td>\n",
       "      <td>1</td>\n",
       "      <td>0</td>\n",
       "      <td>9</td>\n",
       "      <td>4</td>\n",
       "      <td>8</td>\n",
       "    </tr>\n",
       "    <tr>\n",
       "      <th>3</th>\n",
       "      <td>0</td>\n",
       "      <td>1</td>\n",
       "      <td>0</td>\n",
       "      <td>1</td>\n",
       "      <td>27</td>\n",
       "      <td>0</td>\n",
       "      <td>0</td>\n",
       "      <td>0</td>\n",
       "      <td>1</td>\n",
       "      <td>1</td>\n",
       "      <td>...</td>\n",
       "      <td>1</td>\n",
       "      <td>0</td>\n",
       "      <td>2</td>\n",
       "      <td>0</td>\n",
       "      <td>0</td>\n",
       "      <td>0</td>\n",
       "      <td>0</td>\n",
       "      <td>11</td>\n",
       "      <td>3</td>\n",
       "      <td>6</td>\n",
       "    </tr>\n",
       "    <tr>\n",
       "      <th>4</th>\n",
       "      <td>0</td>\n",
       "      <td>1</td>\n",
       "      <td>1</td>\n",
       "      <td>1</td>\n",
       "      <td>24</td>\n",
       "      <td>0</td>\n",
       "      <td>0</td>\n",
       "      <td>0</td>\n",
       "      <td>1</td>\n",
       "      <td>1</td>\n",
       "      <td>...</td>\n",
       "      <td>1</td>\n",
       "      <td>0</td>\n",
       "      <td>2</td>\n",
       "      <td>3</td>\n",
       "      <td>0</td>\n",
       "      <td>0</td>\n",
       "      <td>0</td>\n",
       "      <td>11</td>\n",
       "      <td>5</td>\n",
       "      <td>4</td>\n",
       "    </tr>\n",
       "    <tr>\n",
       "      <th>...</th>\n",
       "      <td>...</td>\n",
       "      <td>...</td>\n",
       "      <td>...</td>\n",
       "      <td>...</td>\n",
       "      <td>...</td>\n",
       "      <td>...</td>\n",
       "      <td>...</td>\n",
       "      <td>...</td>\n",
       "      <td>...</td>\n",
       "      <td>...</td>\n",
       "      <td>...</td>\n",
       "      <td>...</td>\n",
       "      <td>...</td>\n",
       "      <td>...</td>\n",
       "      <td>...</td>\n",
       "      <td>...</td>\n",
       "      <td>...</td>\n",
       "      <td>...</td>\n",
       "      <td>...</td>\n",
       "      <td>...</td>\n",
       "      <td>...</td>\n",
       "    </tr>\n",
       "    <tr>\n",
       "      <th>253675</th>\n",
       "      <td>0</td>\n",
       "      <td>1</td>\n",
       "      <td>1</td>\n",
       "      <td>1</td>\n",
       "      <td>45</td>\n",
       "      <td>0</td>\n",
       "      <td>0</td>\n",
       "      <td>0</td>\n",
       "      <td>0</td>\n",
       "      <td>1</td>\n",
       "      <td>...</td>\n",
       "      <td>1</td>\n",
       "      <td>0</td>\n",
       "      <td>3</td>\n",
       "      <td>0</td>\n",
       "      <td>5</td>\n",
       "      <td>0</td>\n",
       "      <td>1</td>\n",
       "      <td>5</td>\n",
       "      <td>6</td>\n",
       "      <td>7</td>\n",
       "    </tr>\n",
       "    <tr>\n",
       "      <th>253676</th>\n",
       "      <td>2</td>\n",
       "      <td>1</td>\n",
       "      <td>1</td>\n",
       "      <td>1</td>\n",
       "      <td>18</td>\n",
       "      <td>0</td>\n",
       "      <td>0</td>\n",
       "      <td>0</td>\n",
       "      <td>0</td>\n",
       "      <td>0</td>\n",
       "      <td>...</td>\n",
       "      <td>1</td>\n",
       "      <td>0</td>\n",
       "      <td>4</td>\n",
       "      <td>0</td>\n",
       "      <td>0</td>\n",
       "      <td>1</td>\n",
       "      <td>0</td>\n",
       "      <td>11</td>\n",
       "      <td>2</td>\n",
       "      <td>4</td>\n",
       "    </tr>\n",
       "    <tr>\n",
       "      <th>253677</th>\n",
       "      <td>0</td>\n",
       "      <td>0</td>\n",
       "      <td>0</td>\n",
       "      <td>1</td>\n",
       "      <td>28</td>\n",
       "      <td>0</td>\n",
       "      <td>0</td>\n",
       "      <td>0</td>\n",
       "      <td>1</td>\n",
       "      <td>1</td>\n",
       "      <td>...</td>\n",
       "      <td>1</td>\n",
       "      <td>0</td>\n",
       "      <td>1</td>\n",
       "      <td>0</td>\n",
       "      <td>0</td>\n",
       "      <td>0</td>\n",
       "      <td>0</td>\n",
       "      <td>2</td>\n",
       "      <td>5</td>\n",
       "      <td>2</td>\n",
       "    </tr>\n",
       "    <tr>\n",
       "      <th>253678</th>\n",
       "      <td>0</td>\n",
       "      <td>1</td>\n",
       "      <td>0</td>\n",
       "      <td>1</td>\n",
       "      <td>23</td>\n",
       "      <td>0</td>\n",
       "      <td>0</td>\n",
       "      <td>0</td>\n",
       "      <td>0</td>\n",
       "      <td>1</td>\n",
       "      <td>...</td>\n",
       "      <td>1</td>\n",
       "      <td>0</td>\n",
       "      <td>3</td>\n",
       "      <td>0</td>\n",
       "      <td>0</td>\n",
       "      <td>0</td>\n",
       "      <td>1</td>\n",
       "      <td>7</td>\n",
       "      <td>5</td>\n",
       "      <td>1</td>\n",
       "    </tr>\n",
       "    <tr>\n",
       "      <th>253679</th>\n",
       "      <td>2</td>\n",
       "      <td>1</td>\n",
       "      <td>1</td>\n",
       "      <td>1</td>\n",
       "      <td>25</td>\n",
       "      <td>0</td>\n",
       "      <td>0</td>\n",
       "      <td>1</td>\n",
       "      <td>1</td>\n",
       "      <td>1</td>\n",
       "      <td>...</td>\n",
       "      <td>1</td>\n",
       "      <td>0</td>\n",
       "      <td>2</td>\n",
       "      <td>0</td>\n",
       "      <td>0</td>\n",
       "      <td>0</td>\n",
       "      <td>0</td>\n",
       "      <td>9</td>\n",
       "      <td>6</td>\n",
       "      <td>2</td>\n",
       "    </tr>\n",
       "  </tbody>\n",
       "</table>\n",
       "<p>229781 rows × 22 columns</p>\n",
       "</div>"
      ],
      "text/plain": [
       "        Diabetes_012  HighBP  HighChol  CholCheck  BMI  Smoker  Stroke  \\\n",
       "0                  0       1         1          1   40       1       0   \n",
       "1                  0       0         0          0   25       1       0   \n",
       "2                  0       1         1          1   28       0       0   \n",
       "3                  0       1         0          1   27       0       0   \n",
       "4                  0       1         1          1   24       0       0   \n",
       "...              ...     ...       ...        ...  ...     ...     ...   \n",
       "253675             0       1         1          1   45       0       0   \n",
       "253676             2       1         1          1   18       0       0   \n",
       "253677             0       0         0          1   28       0       0   \n",
       "253678             0       1         0          1   23       0       0   \n",
       "253679             2       1         1          1   25       0       0   \n",
       "\n",
       "        HeartDiseaseorAttack  PhysActivity  Fruits  ...  AnyHealthcare  \\\n",
       "0                          0             0       0  ...              1   \n",
       "1                          0             1       0  ...              0   \n",
       "2                          0             0       1  ...              1   \n",
       "3                          0             1       1  ...              1   \n",
       "4                          0             1       1  ...              1   \n",
       "...                      ...           ...     ...  ...            ...   \n",
       "253675                     0             0       1  ...              1   \n",
       "253676                     0             0       0  ...              1   \n",
       "253677                     0             1       1  ...              1   \n",
       "253678                     0             0       1  ...              1   \n",
       "253679                     1             1       1  ...              1   \n",
       "\n",
       "        NoDocbcCost  GenHlth  MentHlth  PhysHlth  DiffWalk  Sex  Age  \\\n",
       "0                 0        5        18        15         1    0    9   \n",
       "1                 1        3         0         0         0    0    7   \n",
       "2                 1        5        30        30         1    0    9   \n",
       "3                 0        2         0         0         0    0   11   \n",
       "4                 0        2         3         0         0    0   11   \n",
       "...             ...      ...       ...       ...       ...  ...  ...   \n",
       "253675            0        3         0         5         0    1    5   \n",
       "253676            0        4         0         0         1    0   11   \n",
       "253677            0        1         0         0         0    0    2   \n",
       "253678            0        3         0         0         0    1    7   \n",
       "253679            0        2         0         0         0    0    9   \n",
       "\n",
       "        Education  Income  \n",
       "0               4       3  \n",
       "1               6       1  \n",
       "2               4       8  \n",
       "3               3       6  \n",
       "4               5       4  \n",
       "...           ...     ...  \n",
       "253675          6       7  \n",
       "253676          2       4  \n",
       "253677          5       2  \n",
       "253678          5       1  \n",
       "253679          6       2  \n",
       "\n",
       "[229781 rows x 22 columns]"
      ]
     },
     "execution_count": 7,
     "metadata": {},
     "output_type": "execute_result"
    }
   ],
   "source": [
    "data=data.astype(int)\n",
    "data.drop_duplicates()"
   ]
  },
  {
   "cell_type": "code",
   "execution_count": 8,
   "id": "91817219-0a57-45e6-81b0-1cefe3ceca96",
   "metadata": {},
   "outputs": [],
   "source": [
    "data['Diabetes_012'].loc[data['Diabetes_012']==2]=1"
   ]
  },
  {
   "cell_type": "markdown",
   "id": "6379b6b3-31c1-42b3-8189-0adf6fc0a4a6",
   "metadata": {},
   "source": [
    "Предобработка завершена\r\n",
    "Р разобъём на выборки"
   ]
  },
  {
   "cell_type": "code",
   "execution_count": 9,
   "id": "0598b097-add4-4905-b176-1fc2e6a076c5",
   "metadata": {},
   "outputs": [],
   "source": [
    "from sklearn.model_selection import train_test_split\n",
    "train_data, test_data = train_test_split(data, test_size=0.2)"
   ]
  },
  {
   "cell_type": "markdown",
   "id": "bc0645b8-0f49-49ae-abf6-657862dac79e",
   "metadata": {},
   "source": [
    "Проверим на сбалансированность по признаку Diabetes_012 "
   ]
  },
  {
   "cell_type": "code",
   "execution_count": 10,
   "id": "b623f513-9467-4c55-bc8c-31073d4e4868",
   "metadata": {},
   "outputs": [
    {
     "data": {
      "text/plain": [
       "<AxesSubplot: >"
      ]
     },
     "execution_count": 10,
     "metadata": {},
     "output_type": "execute_result"
    },
    {
     "data": {
      "image/png": "[encoded data removed]",
      "text/plain": [
       "<Figure size 640x480 with 1 Axes>"
      ]
     },
     "metadata": {},
     "output_type": "display_data"
    }
   ],
   "source": [
    "data.Diabetes_012.hist()"
   ]
  },
  {
   "cell_type": "markdown",
   "id": "6e669e53-085d-457a-b3eb-b0dd6eb93622",
   "metadata": {},
   "source": [
    "Дисбаланс присутствует\n",
    "\n",
    "Будем его лечить"
   ]
  },
  {
   "cell_type": "code",
   "execution_count": 11,
   "id": "e75d1175-058f-4ef7-a916-85ae99c48531",
   "metadata": {},
   "outputs": [
    {
     "data": {
      "text/plain": [
       "<AxesSubplot: >"
      ]
     },
     "execution_count": 11,
     "metadata": {},
     "output_type": "execute_result"
    },
    {
     "data": {
      "image/png": "[encoded data removed]",
      "text/plain": [
       "<Figure size 640x480 with 1 Axes>"
      ]
     },
     "metadata": {},
     "output_type": "display_data"
    }
   ],
   "source": [
    "from sklearn.utils import resample\n",
    "maj_class = train_data[train_data['Diabetes_012'] == 0]\n",
    "min_class = train_data[train_data['Diabetes_012'] == 1]\n",
    " \n",
    "maj_downsampled = resample(maj_class, n_samples=len(min_class), random_state=42)\n",
    " \n",
    "sampled_data = pd.concat((maj_downsampled, min_class))\n",
    "\n",
    "sampled_data.Diabetes_012.hist()"
   ]
  },
  {
   "cell_type": "markdown",
   "id": "47838cc7-3cd6-4b1f-a86a-a5ba34a2f28e",
   "metadata": {},
   "source": [
    "Дисбаланс устранён\n",
    "\n",
    "Выделим ключевый признак"
   ]
  },
  {
   "cell_type": "code",
   "execution_count": 12,
   "id": "8280d5a2-420f-4c66-8764-d38937cfe517",
   "metadata": {},
   "outputs": [],
   "source": [
    "y_train =sampled_data[\"Diabetes_012\"]\n",
    "x_train = sampled_data.drop([\"Diabetes_012\"], axis=1)\n",
    "y_test =test_data[\"Diabetes_012\"]\n",
    "x_test = test_data.drop([\"Diabetes_012\"], axis=1)"
   ]
  },
  {
   "cell_type": "code",
   "execution_count": 13,
   "id": "fc7abcc0-ff17-48de-aaaf-d62615c8a165",
   "metadata": {},
   "outputs": [
    {
     "data": {
      "text/plain": [
       "((63882, 21), (50736, 21))"
      ]
     },
     "execution_count": 13,
     "metadata": {},
     "output_type": "execute_result"
    }
   ],
   "source": [
    "x_train.shape,x_test.shape"
   ]
  },
  {
   "cell_type": "markdown",
   "id": "27a73d62-781b-43bf-a3eb-c4ad8d1e608b",
   "metadata": {},
   "source": [
    "Масштабируем"
   ]
  },
  {
   "cell_type": "code",
   "execution_count": 14,
   "id": "940dc486-187a-47b4-ac30-2afe19542e16",
   "metadata": {},
   "outputs": [],
   "source": [
    "from sklearn.preprocessing import StandardScaler\n",
    "sc=StandardScaler()"
   ]
  },
  {
   "cell_type": "code",
   "execution_count": 15,
   "id": "b136fe42-6c03-4101-bdb3-45f4a953adc9",
   "metadata": {},
   "outputs": [],
   "source": [
    "x_train=sc.fit_transform(x_train)\n",
    "x_test=sc.transform(x_test)"
   ]
  },
  {
   "cell_type": "code",
   "execution_count": 16,
   "id": "12914430-e766-4dde-9b05-2d7aeffe4d78",
   "metadata": {},
   "outputs": [
    {
     "data": {
      "text/plain": [
       "(50736, 21)"
      ]
     },
     "execution_count": 16,
     "metadata": {},
     "output_type": "execute_result"
    }
   ],
   "source": [
    "x_test.shape"
   ]
  },
  {
   "cell_type": "markdown",
   "id": "47af6eb8-3a02-4c72-9d42-44d43aeb29ae",
   "metadata": {},
   "source": [
    "Решим задачу классивикации методом knn\n",
    "\n",
    "Сразу рассмотри несколько параметров и выведем характеристики для каждого"
   ]
  },
  {
   "cell_type": "code",
   "execution_count": 17,
   "id": "373f4cb8-f828-4a76-8c68-f79f61a238af",
   "metadata": {},
   "outputs": [],
   "source": [
    "from sklearn.model_selection import GridSearchCV, RandomizedSearchCV\n",
    "from sklearn.neighbors import KNeighborsClassifier"
   ]
  },
  {
   "cell_type": "code",
   "execution_count": 18,
   "id": "78643882-2283-4cbd-a644-e8d0ae971fdc",
   "metadata": {},
   "outputs": [],
   "source": [
    "from sklearn.metrics import accuracy_score, confusion_matrix, f1_score, roc_curve, confusion_matrix, classification_report,roc_auc_score"
   ]
  },
  {
   "cell_type": "code",
   "execution_count": 19,
   "id": "6c43f9f4-cc5f-48d5-be70-640999f52a32",
   "metadata": {},
   "outputs": [
    {
     "name": "stdout",
     "output_type": "stream",
     "text": [
      "              precision    recall  f1-score   support\n",
      "\n",
      "           0       0.92      0.67      0.77     42700\n",
      "           1       0.28      0.70      0.40      8036\n",
      "\n",
      "    accuracy                           0.67     50736\n",
      "   macro avg       0.60      0.68      0.59     50736\n",
      "weighted avg       0.82      0.67      0.71     50736\n",
      "\n",
      "roc_curve_auc  0.6834324637491942\n",
      "              precision    recall  f1-score   support\n",
      "\n",
      "           0       0.93      0.68      0.78     42700\n",
      "           1       0.30      0.74      0.43      8036\n",
      "\n",
      "    accuracy                           0.69     50736\n",
      "   macro avg       0.62      0.71      0.61     50736\n",
      "weighted avg       0.83      0.69      0.73     50736\n",
      "\n",
      "roc_curve_auc  0.7060735705717713\n",
      "              precision    recall  f1-score   support\n",
      "\n",
      "           0       0.94      0.69      0.79     42700\n",
      "           1       0.31      0.76      0.44      8036\n",
      "\n",
      "    accuracy                           0.70     50736\n",
      "   macro avg       0.63      0.72      0.62     50736\n",
      "weighted avg       0.84      0.70      0.74     50736\n",
      "\n",
      "roc_curve_auc  0.7238486238157797\n",
      "              precision    recall  f1-score   support\n",
      "\n",
      "           0       0.94      0.69      0.80     42700\n",
      "           1       0.32      0.77      0.45      8036\n",
      "\n",
      "    accuracy                           0.70     50736\n",
      "   macro avg       0.63      0.73      0.62     50736\n",
      "weighted avg       0.84      0.70      0.74     50736\n",
      "\n",
      "roc_curve_auc  0.7310599841695974\n"
     ]
    }
   ],
   "source": [
    "parameters = [3,7,15,31]\n",
    "resultsknn=[]\n",
    "for i in parameters:\n",
    "    knn=KNeighborsClassifier(n_neighbors=i,metric='minkowski', p=2,weights='distance').fit(x_train, y_train)\n",
    "    y_bin_knn_pred = knn.predict(x_test)\n",
    "    resultsknn.append(y_bin_knn_pred)\n",
    "    print( classification_report(y_test, y_bin_knn_pred))\n",
    "    print(\"roc_curve_auc \",roc_auc_score(y_test, y_bin_knn_pred))"
   ]
  },
  {
   "cell_type": "markdown",
   "id": "28cdc052-c321-4d6d-934d-76bba3f8a47c",
   "metadata": {},
   "source": [
    "В целом параметр 15 показал хороший результат"
   ]
  },
  {
   "cell_type": "markdown",
   "id": "b098aded-4328-4e42-bdc7-9ca27d7b6aa0",
   "metadata": {},
   "source": [
    "Выведем кривую ROC для параметра 15"
   ]
  },
  {
   "cell_type": "code",
   "execution_count": 20,
   "id": "8681b643-0b6d-47a6-a23a-dd79b5bbd5f9",
   "metadata": {},
   "outputs": [
    {
     "data": {
      "image/png": "[encoded data removed]",
      "text/plain": [
       "<Figure size 640x480 with 1 Axes>"
      ]
     },
     "metadata": {},
     "output_type": "display_data"
    }
   ],
   "source": [
    "\n",
    "fpr, tpr, plot = roc_curve(y_test, resultsknn[2])\n",
    "\n",
    "plt.plot(fpr, tpr)\n",
    "plt.xlabel('Доля ложноположительных результатов')\n",
    "plt.plot([0, 1], [0, 1], 'k--')\n",
    "plt.ylabel('Истинно положительный коэффициент')\n",
    "plt.title('Кривая ROC')\n",
    "plt.show()"
   ]
  },
  {
   "cell_type": "markdown",
   "id": "24a9daa3-c18b-4e99-a17c-e35d16997bde",
   "metadata": {},
   "source": [
    "Решим задачу классивикации методом Naive Bayes\r\n",
    "\r\n",
    "Сразу рассмотри несколько параметров и выведем характеристики для каждого"
   ]
  },
  {
   "cell_type": "code",
   "execution_count": 21,
   "id": "8f503e32-185f-4d04-9b6b-30b951291b81",
   "metadata": {},
   "outputs": [
    {
     "name": "stdout",
     "output_type": "stream",
     "text": [
      "              precision    recall  f1-score   support\n",
      "\n",
      "           0       0.93      0.73      0.82     42700\n",
      "           1       0.32      0.69      0.44      8036\n",
      "\n",
      "    accuracy                           0.72     50736\n",
      "   macro avg       0.63      0.71      0.63     50736\n",
      "weighted avg       0.83      0.72      0.76     50736\n",
      "\n",
      "roc_curve_auc  0.7091101926576308\n"
     ]
    }
   ],
   "source": [
    "from sklearn.naive_bayes import GaussianNB\n",
    "\n",
    "\n",
    "gnb = GaussianNB()\n",
    "gnb.fit(x_train, y_train)\n",
    "y_pred = gnb.predict(x_test)\n",
    "print(classification_report(y_test, y_pred))\n",
    "print(\"roc_curve_auc \",roc_auc_score(y_test, y_pred))"
   ]
  },
  {
   "cell_type": "code",
   "execution_count": 22,
   "id": "219d2a94-b938-409f-96ce-3daca6a6f0af",
   "metadata": {},
   "outputs": [
    {
     "data": {
      "image/png": "[encoded data removed]",
      "text/plain": [
       "<Figure size 640x480 with 1 Axes>"
      ]
     },
     "metadata": {},
     "output_type": "display_data"
    }
   ],
   "source": [
    "fpr, tpr, plot = roc_curve(y_test, y_pred)\n",
    "\n",
    "plt.plot(fpr, tpr)\n",
    "plt.xlabel('Доля ложноположительных результатов')\n",
    "plt.plot([0, 1], [0, 1], 'k--')\n",
    "plt.ylabel('Истинно положительный коэффициент')\n",
    "plt.title('Кривая ROC')\n",
    "plt.show()"
   ]
  },
  {
   "cell_type": "markdown",
   "id": "82181dec-6ad1-4c7d-ad4f-63d1ba82c7df",
   "metadata": {},
   "source": [
    "Решим задачу классивикации методом логистической регрессии\r\n",
    "\r\n",
    "Сразу рассмотри несколько параметров и выведем характеристики для каждого"
   ]
  },
  {
   "cell_type": "code",
   "execution_count": 23,
   "id": "7271d7f8-69bf-447f-a9a9-3c49848b2cab",
   "metadata": {},
   "outputs": [
    {
     "name": "stdout",
     "output_type": "stream",
     "text": [
      "{'C': 0.2}\n",
      "              precision    recall  f1-score   support\n",
      "\n",
      "           0       0.94      0.72      0.82     42700\n",
      "           1       0.34      0.76      0.47      8036\n",
      "\n",
      "    accuracy                           0.73     50736\n",
      "   macro avg       0.64      0.74      0.64     50736\n",
      "weighted avg       0.85      0.73      0.76     50736\n",
      "\n",
      "roc_curve_auc  0.7413607210177152\n"
     ]
    }
   ],
   "source": [
    "\n",
    "\n",
    "parameters = {'C': [0.2,0.5,0.7,1,1.5]}\n",
    "clf = GridSearchCV(LogisticRegression(), parameters).fit(x_train, y_train)\n",
    "print(clf.best_params_)\n",
    "\n",
    "y_pred1 = clf.predict(x_test)\n",
    "print(classification_report(y_test, y_pred1))\n",
    "print(\"roc_curve_auc \",roc_auc_score(y_test, y_pred1))\n",
    "\n"
   ]
  },
  {
   "cell_type": "code",
   "execution_count": 24,
   "id": "845a6366-85c2-41b8-8950-f6c4777d61d2",
   "metadata": {},
   "outputs": [
    {
     "data": {
      "image/png": "[encoded data removed]",
      "text/plain": [
       "<Figure size 640x480 with 1 Axes>"
      ]
     },
     "metadata": {},
     "output_type": "display_data"
    }
   ],
   "source": [
    "fpr, tpr, plot = roc_curve(y_test, y_pred)\n",
    "\n",
    "plt.plot(fpr, tpr)\n",
    "plt.xlabel('Доля ложноположительных результатов')\n",
    "plt.plot([0, 1], [0, 1], 'k--')\n",
    "plt.ylabel('Истинно положительный коэффициент')\n",
    "plt.title('Кривая ROC')\n",
    "plt.show()"
   ]
  },
  {
   "cell_type": "markdown",
   "id": "5aec3961-3f60-4e70-8341-fa5e59b230fc",
   "metadata": {},
   "source": [
    "Решим задачу классивикации методом SVM\r\n",
    "\r\n",
    "Сразу рассмотри несколько параметров и выведем характеристики для каждого"
   ]
  },
  {
   "cell_type": "code",
   "execution_count": 43,
   "id": "7b20d17a-0259-4a3f-84cc-ef77a778c28b",
   "metadata": {},
   "outputs": [],
   "source": [
    "from sklearn import svm"
   ]
  },
  {
   "cell_type": "code",
   "execution_count": 61,
   "id": "d6fcf781-caf1-4074-94b7-5a2ce5f09469",
   "metadata": {},
   "outputs": [],
   "source": [
    "\n",
    "x_train1, x_test1,y_train1,y_test1 = train_test_split(x_test,y_test, test_size=0.98,stratify=y_test)"
   ]
  },
  {
   "cell_type": "code",
   "execution_count": 62,
   "id": "74d5a012-7178-445e-8305-d0f5852bfbec",
   "metadata": {},
   "outputs": [
    {
     "data": {
      "text/plain": [
       "(1014, 21)"
      ]
     },
     "execution_count": 62,
     "metadata": {},
     "output_type": "execute_result"
    }
   ],
   "source": [
    "x_train1.shape"
   ]
  },
  {
   "cell_type": "code",
   "execution_count": 27,
   "id": "13f73734-1a26-4105-a708-abb79d07f8fc",
   "metadata": {},
   "outputs": [],
   "source": [
    "clf2=svm.SVC()"
   ]
  },
  {
   "cell_type": "code",
   "execution_count": 63,
   "id": "2a13e676-4506-47c3-9724-a4ed37edfeb8",
   "metadata": {},
   "outputs": [
    {
     "name": "stdout",
     "output_type": "stream",
     "text": [
      "{'C': 0.2}\n",
      "              precision    recall  f1-score   support\n",
      "\n",
      "           0       0.84      1.00      0.91     41847\n",
      "           1       0.00      0.00      0.00      7875\n",
      "\n",
      "    accuracy                           0.84     49722\n",
      "   macro avg       0.42      0.50      0.46     49722\n",
      "weighted avg       0.71      0.84      0.77     49722\n",
      "\n",
      "roc_curve_auc  0.5\n"
     ]
    },
    {
     "name": "stderr",
     "output_type": "stream",
     "text": [
      "D:\\ML-Labs\\venv\\lib\\site-packages\\sklearn\\metrics\\_classification.py:1344: UndefinedMetricWarning: Precision and F-score are ill-defined and being set to 0.0 in labels with no predicted samples. Use `zero_division` parameter to control this behavior.\n",
      "  _warn_prf(average, modifier, msg_start, len(result))\n",
      "D:\\ML-Labs\\venv\\lib\\site-packages\\sklearn\\metrics\\_classification.py:1344: UndefinedMetricWarning: Precision and F-score are ill-defined and being set to 0.0 in labels with no predicted samples. Use `zero_division` parameter to control this behavior.\n",
      "  _warn_prf(average, modifier, msg_start, len(result))\n",
      "D:\\ML-Labs\\venv\\lib\\site-packages\\sklearn\\metrics\\_classification.py:1344: UndefinedMetricWarning: Precision and F-score are ill-defined and being set to 0.0 in labels with no predicted samples. Use `zero_division` parameter to control this behavior.\n",
      "  _warn_prf(average, modifier, msg_start, len(result))\n"
     ]
    }
   ],
   "source": [
    "parameters = {'C': [0.2]}\n",
    "clf2 = GridSearchCV(svm.SVC(), parameters).fit(x_train1, y_train1)\n",
    "print(clf2.best_params_)\n",
    "\n",
    "y_pred1 = clf2.predict(x_test1)\n",
    "print(classification_report(y_test1, y_pred1))\n",
    "print(\"roc_curve_auc \",roc_auc_score(y_test1, y_pred1))"
   ]
  },
  {
   "cell_type": "markdown",
   "id": "dc95ce8a-7e82-4d8f-aab8-f48dae4a7d1e",
   "metadata": {},
   "source": [
    "Построим итоговую модель классификаторов"
   ]
  },
  {
   "cell_type": "code",
   "execution_count": 29,
   "id": "a879ddac-6ad0-4b13-94e6-add2f5be2b6e",
   "metadata": {},
   "outputs": [],
   "source": [
    "classifiers = {\n",
    "    'KNN classifier': KNeighborsClassifier(n_neighbors=15).fit(x_train,y_train),\n",
    "    'Naive Bayes': gnb,\n",
    "    'LogisticRegression':clf\n",
    "    #'SVC': SVC(C=0.2)#,\n",
    "}"
   ]
  },
  {
   "cell_type": "code",
   "execution_count": 30,
   "id": "ca3a2b03-3c1b-4206-a360-3ced600b7d71",
   "metadata": {},
   "outputs": [
    {
     "name": "stdout",
     "output_type": "stream",
     "text": [
      "Accuracy (train) for KNN classifier: 70.2% \n",
      "              precision    recall  f1-score   support\n",
      "\n",
      "           0       0.94      0.69      0.80     42700\n",
      "           1       0.32      0.76      0.45      8036\n",
      "\n",
      "    accuracy                           0.70     50736\n",
      "   macro avg       0.63      0.73      0.62     50736\n",
      "weighted avg       0.84      0.70      0.74     50736\n",
      "\n",
      "Accuracy (train) for Naive Bayes: 72.4% \n",
      "              precision    recall  f1-score   support\n",
      "\n",
      "           0       0.93      0.73      0.82     42700\n",
      "           1       0.32      0.69      0.44      8036\n",
      "\n",
      "    accuracy                           0.72     50736\n",
      "   macro avg       0.63      0.71      0.63     50736\n",
      "weighted avg       0.83      0.72      0.76     50736\n",
      "\n",
      "Accuracy (train) for LogisticRegression: 72.9% \n",
      "              precision    recall  f1-score   support\n",
      "\n",
      "           0       0.94      0.72      0.82     42700\n",
      "           1       0.34      0.76      0.47      8036\n",
      "\n",
      "    accuracy                           0.73     50736\n",
      "   macro avg       0.64      0.74      0.64     50736\n",
      "weighted avg       0.85      0.73      0.76     50736\n",
      "\n"
     ]
    }
   ],
   "source": [
    "n_classifiers = len(classifiers)\n",
    "\n",
    "for index, (name, classifier) in enumerate(classifiers.items()):\n",
    "\n",
    "    y_pred = classifier.predict(x_test)\n",
    "    accuracy = accuracy_score(y_test, y_pred)\n",
    "    print(\"Accuracy (train) for %s: %0.1f%% \" % (name, accuracy * 100))\n",
    "    print(classification_report(y_test,y_pred))"
   ]
  },
  {
   "cell_type": "markdown",
   "id": "0d78a425-0065-4643-bfbd-25b3cc0930d0",
   "metadata": {},
   "source": [
    "Задание 3: реализовать метрики: Accuracy, precision, recall, f1-score, реализовать knn"
   ]
  },
  {
   "cell_type": "code",
   "execution_count": 31,
   "id": "a9e44835-0497-44a9-9d84-a84479698692",
   "metadata": {},
   "outputs": [],
   "source": [
    "def accuracy(y_test,y_pred):\n",
    "    y_test=y_test-y_pred\n",
    "    return np.count_nonzero(y_test==0)/len(y_test)"
   ]
  },
  {
   "cell_type": "code",
   "execution_count": 32,
   "id": "06e89f83-faee-4461-ab35-0cb3d8d8c1e4",
   "metadata": {},
   "outputs": [],
   "source": [
    "def  precision(y_test, y_pred):\n",
    "    tp = 0\n",
    "    for i in range(len(y_pred)):\n",
    "        if y_test.to_numpy()[i] == 1 and y_pred[i] == 1:\n",
    "            tp += 1\n",
    "    return tp / np.count_nonzero(y_pred==1)"
   ]
  },
  {
   "cell_type": "code",
   "execution_count": 33,
   "id": "4aac65b8-c42f-4293-9beb-31b220debbf7",
   "metadata": {},
   "outputs": [],
   "source": [
    "def  recall(y_test, y_pred):\n",
    "    tp = 0\n",
    "    for i in range(len(y_pred)):\n",
    "        if y_test.to_numpy()[i] == 1 and y_pred[i] == 1:\n",
    "            tp += 1\n",
    "    return tp / np.count_nonzero(y_test==1)"
   ]
  },
  {
   "cell_type": "code",
   "execution_count": 34,
   "id": "aa125638-b6db-4c4f-b649-d2ce9f432fd0",
   "metadata": {},
   "outputs": [],
   "source": [
    "def f1_score(y_true, y_pred):\n",
    "    prec = precision(y_true, y_pred)\n",
    "    rec = recall(y_true, y_pred)\n",
    "    if prec + rec == 0:\n",
    "        return 0\n",
    "    return 2 * (prec * rec) / (prec + rec)"
   ]
  },
  {
   "cell_type": "code",
   "execution_count": 35,
   "id": "49fdb74e-82e5-4d31-97ac-bb95a3bdcd25",
   "metadata": {},
   "outputs": [],
   "source": [
    "def ed(x1, x2): #Евклидово расстояние\n",
    "    return np.sqrt(np.sum((x1 - x2) ** 2))\n",
    "\n",
    "class KNN:\n",
    "    # Устанавливаем параметры\n",
    "    def __init__(self, n_neighboors=3):\n",
    "        self.n_neighboors = n_neighboors\n",
    "        \n",
    "    def fit(self, X, y):\n",
    "        self.X_train = X\n",
    "        self.y_train = y\n",
    "        \n",
    "    def predict(self, X):#внешний метод предикт для датабазы\n",
    "        y_pred = [self._predict(x) for x in X]\n",
    "        return np.array(y_pred)\n",
    "    \n",
    "    def _predict(self, x):#внутрений метод предикт для 1 элемента\n",
    "        distances = [ed(x, x_train) for x_train in self.X_train]\n",
    "        \n",
    "        n_ind= np.argsort(distances)[:self.n_neighboors]\n",
    "        \n",
    "        n_nearest_points = [self.y_train[i] for i in n_ind]\n",
    "\n",
    "        counts = np.bincount(n_nearest_points)\n",
    "        most_common = np.argmax(counts)\n",
    "\n",
    "        return most_common"
   ]
  },
  {
   "cell_type": "code",
   "execution_count": 36,
   "id": "ae597627-17fb-4010-b9e7-243c83b2a16f",
   "metadata": {},
   "outputs": [
    {
     "data": {
      "text/plain": [
       "array([0, 0, 1], dtype=int64)"
      ]
     },
     "execution_count": 36,
     "metadata": {},
     "output_type": "execute_result"
    }
   ],
   "source": [
    "x_train0=np.array([[1,4,15],[4,23,12],[32,3,45],[23,23,23],[0,0,0],[145,234,345]])\n",
    "y_train0=np.array([0,0,1,1,0,1])\n",
    "x_test0=np.array([[14,34,0],[32,12,0],[91,40,60]])\n",
    "y_test0=np.array([0,1,1])\n",
    "\n",
    "knn=KNN(n_neighboors=3)\n",
    "knn.fit(x_train0,y_train0)\n",
    "y_pred0=knn.predict(x_test0)\n",
    "y_pred0"
   ]
  },
  {
   "cell_type": "code",
   "execution_count": 37,
   "id": "327118f1-7593-41e1-9922-ffb9879f52e6",
   "metadata": {},
   "outputs": [
    {
     "data": {
      "text/plain": [
       "0.6666666666666666"
      ]
     },
     "execution_count": 37,
     "metadata": {},
     "output_type": "execute_result"
    }
   ],
   "source": [
    "accuracy(y_pred0,y_test0)"
   ]
  },
  {
   "cell_type": "code",
   "execution_count": 41,
   "id": "c377cc47-318f-45ef-a215-abd370a7a2da",
   "metadata": {},
   "outputs": [
    {
     "name": "stdout",
     "output_type": "stream",
     "text": [
      "0.7291666666666666 0.3407047523314905 0.7592085614733698 0.4703388197201558\n"
     ]
    }
   ],
   "source": [
    "print(accuracy(y_pred,y_test), precision(y_test,y_pred),recall(y_test,y_pred),f1_score(y_test,y_pred))"
   ]
  },
  {
   "cell_type": "code",
   "execution_count": null,
   "id": "6ed318c4-6567-44c4-b948-373c4090983d",
   "metadata": {},
   "outputs": [],
   "source": []
  }
 ],
 "metadata": {
  "kernelspec": {
   "display_name": "Python 3 (ipykernel)",
   "language": "python",
   "name": "python3"
  },
  "language_info": {
   "codemirror_mode": {
    "name": "ipython",
    "version": 3
   },
   "file_extension": ".py",
   "mimetype": "text/x-python",
   "name": "python",
   "nbconvert_exporter": "python",
   "pygments_lexer": "ipython3",
   "version": "3.9.13"
  }
 },
 "nbformat": 4,
 "nbformat_minor": 5
}
