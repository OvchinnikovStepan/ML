{
 "cells": [
  {
   "cell_type": "code",
   "execution_count": 1,
   "id": "66234c18-d40a-484a-bacd-22b8c48d014a",
   "metadata": {},
   "outputs": [],
   "source": [
    "import pandas as pd\n",
    "import matplotlib.pyplot as plt\n",
    "import numpy as np"
   ]
  },
  {
   "cell_type": "markdown",
   "id": "188593b2-2a1c-4f92-b71e-4c35b2250908",
   "metadata": {},
   "source": [
    "# Задание 1"
   ]
  },
  {
   "cell_type": "code",
   "execution_count": 2,
   "id": "0c6c654d-9fa9-436f-9904-64cd40ba2bff",
   "metadata": {},
   "outputs": [
    {
     "data": {
      "text/html": [
       "<div>\n",
       "<style scoped>\n",
       "    .dataframe tbody tr th:only-of-type {\n",
       "        vertical-align: middle;\n",
       "    }\n",
       "\n",
       "    .dataframe tbody tr th {\n",
       "        vertical-align: top;\n",
       "    }\n",
       "\n",
       "    .dataframe thead th {\n",
       "        text-align: right;\n",
       "    }\n",
       "</style>\n",
       "<table border=\"1\" class=\"dataframe\">\n",
       "  <thead>\n",
       "    <tr style=\"text-align: right;\">\n",
       "      <th></th>\n",
       "      <th>Diabetes_012</th>\n",
       "      <th>HighBP</th>\n",
       "      <th>HighChol</th>\n",
       "      <th>CholCheck</th>\n",
       "      <th>BMI</th>\n",
       "      <th>Smoker</th>\n",
       "      <th>Stroke</th>\n",
       "      <th>HeartDiseaseorAttack</th>\n",
       "      <th>PhysActivity</th>\n",
       "      <th>Fruits</th>\n",
       "      <th>...</th>\n",
       "      <th>AnyHealthcare</th>\n",
       "      <th>NoDocbcCost</th>\n",
       "      <th>GenHlth</th>\n",
       "      <th>MentHlth</th>\n",
       "      <th>PhysHlth</th>\n",
       "      <th>DiffWalk</th>\n",
       "      <th>Sex</th>\n",
       "      <th>Age</th>\n",
       "      <th>Education</th>\n",
       "      <th>Income</th>\n",
       "    </tr>\n",
       "  </thead>\n",
       "  <tbody>\n",
       "    <tr>\n",
       "      <th>0</th>\n",
       "      <td>0</td>\n",
       "      <td>1</td>\n",
       "      <td>1</td>\n",
       "      <td>1</td>\n",
       "      <td>40</td>\n",
       "      <td>1</td>\n",
       "      <td>0</td>\n",
       "      <td>0</td>\n",
       "      <td>0</td>\n",
       "      <td>0</td>\n",
       "      <td>...</td>\n",
       "      <td>1</td>\n",
       "      <td>0</td>\n",
       "      <td>5</td>\n",
       "      <td>18</td>\n",
       "      <td>15</td>\n",
       "      <td>1</td>\n",
       "      <td>0</td>\n",
       "      <td>9</td>\n",
       "      <td>4</td>\n",
       "      <td>3</td>\n",
       "    </tr>\n",
       "    <tr>\n",
       "      <th>1</th>\n",
       "      <td>0</td>\n",
       "      <td>0</td>\n",
       "      <td>0</td>\n",
       "      <td>0</td>\n",
       "      <td>25</td>\n",
       "      <td>1</td>\n",
       "      <td>0</td>\n",
       "      <td>0</td>\n",
       "      <td>1</td>\n",
       "      <td>0</td>\n",
       "      <td>...</td>\n",
       "      <td>0</td>\n",
       "      <td>1</td>\n",
       "      <td>3</td>\n",
       "      <td>0</td>\n",
       "      <td>0</td>\n",
       "      <td>0</td>\n",
       "      <td>0</td>\n",
       "      <td>7</td>\n",
       "      <td>6</td>\n",
       "      <td>1</td>\n",
       "    </tr>\n",
       "    <tr>\n",
       "      <th>2</th>\n",
       "      <td>0</td>\n",
       "      <td>1</td>\n",
       "      <td>1</td>\n",
       "      <td>1</td>\n",
       "      <td>28</td>\n",
       "      <td>0</td>\n",
       "      <td>0</td>\n",
       "      <td>0</td>\n",
       "      <td>0</td>\n",
       "      <td>1</td>\n",
       "      <td>...</td>\n",
       "      <td>1</td>\n",
       "      <td>1</td>\n",
       "      <td>5</td>\n",
       "      <td>30</td>\n",
       "      <td>30</td>\n",
       "      <td>1</td>\n",
       "      <td>0</td>\n",
       "      <td>9</td>\n",
       "      <td>4</td>\n",
       "      <td>8</td>\n",
       "    </tr>\n",
       "    <tr>\n",
       "      <th>3</th>\n",
       "      <td>0</td>\n",
       "      <td>1</td>\n",
       "      <td>0</td>\n",
       "      <td>1</td>\n",
       "      <td>27</td>\n",
       "      <td>0</td>\n",
       "      <td>0</td>\n",
       "      <td>0</td>\n",
       "      <td>1</td>\n",
       "      <td>1</td>\n",
       "      <td>...</td>\n",
       "      <td>1</td>\n",
       "      <td>0</td>\n",
       "      <td>2</td>\n",
       "      <td>0</td>\n",
       "      <td>0</td>\n",
       "      <td>0</td>\n",
       "      <td>0</td>\n",
       "      <td>11</td>\n",
       "      <td>3</td>\n",
       "      <td>6</td>\n",
       "    </tr>\n",
       "    <tr>\n",
       "      <th>4</th>\n",
       "      <td>0</td>\n",
       "      <td>1</td>\n",
       "      <td>1</td>\n",
       "      <td>1</td>\n",
       "      <td>24</td>\n",
       "      <td>0</td>\n",
       "      <td>0</td>\n",
       "      <td>0</td>\n",
       "      <td>1</td>\n",
       "      <td>1</td>\n",
       "      <td>...</td>\n",
       "      <td>1</td>\n",
       "      <td>0</td>\n",
       "      <td>2</td>\n",
       "      <td>3</td>\n",
       "      <td>0</td>\n",
       "      <td>0</td>\n",
       "      <td>0</td>\n",
       "      <td>11</td>\n",
       "      <td>5</td>\n",
       "      <td>4</td>\n",
       "    </tr>\n",
       "  </tbody>\n",
       "</table>\n",
       "<p>5 rows × 22 columns</p>\n",
       "</div>"
      ],
      "text/plain": [
       "   Diabetes_012  HighBP  HighChol  CholCheck  BMI  Smoker  Stroke  \\\n",
       "0             0       1         1          1   40       1       0   \n",
       "1             0       0         0          0   25       1       0   \n",
       "2             0       1         1          1   28       0       0   \n",
       "3             0       1         0          1   27       0       0   \n",
       "4             0       1         1          1   24       0       0   \n",
       "\n",
       "   HeartDiseaseorAttack  PhysActivity  Fruits  ...  AnyHealthcare  \\\n",
       "0                     0             0       0  ...              1   \n",
       "1                     0             1       0  ...              0   \n",
       "2                     0             0       1  ...              1   \n",
       "3                     0             1       1  ...              1   \n",
       "4                     0             1       1  ...              1   \n",
       "\n",
       "   NoDocbcCost  GenHlth  MentHlth  PhysHlth  DiffWalk  Sex  Age  Education  \\\n",
       "0            0        5        18        15         1    0    9          4   \n",
       "1            1        3         0         0         0    0    7          6   \n",
       "2            1        5        30        30         1    0    9          4   \n",
       "3            0        2         0         0         0    0   11          3   \n",
       "4            0        2         3         0         0    0   11          5   \n",
       "\n",
       "   Income  \n",
       "0       3  \n",
       "1       1  \n",
       "2       8  \n",
       "3       6  \n",
       "4       4  \n",
       "\n",
       "[5 rows x 22 columns]"
      ]
     },
     "execution_count": 2,
     "metadata": {},
     "output_type": "execute_result"
    }
   ],
   "source": [
    "data0= pd.read_csv('D:\\ML\\data\\diabetes.csv')\n",
    "data0=data0.astype(int)\n",
    "data0.drop_duplicates()\n",
    "data0['Diabetes_012'].loc[data0['Diabetes_012']==2]=1\n",
    "data0.head()"
   ]
  },
  {
   "cell_type": "code",
   "execution_count": 3,
   "id": "2ee0f2e6-ce2a-46ac-85bb-8dd0758dbaf2",
   "metadata": {},
   "outputs": [
    {
     "data": {
      "text/html": [
       "<div>\n",
       "<style scoped>\n",
       "    .dataframe tbody tr th:only-of-type {\n",
       "        vertical-align: middle;\n",
       "    }\n",
       "\n",
       "    .dataframe tbody tr th {\n",
       "        vertical-align: top;\n",
       "    }\n",
       "\n",
       "    .dataframe thead th {\n",
       "        text-align: right;\n",
       "    }\n",
       "</style>\n",
       "<table border=\"1\" class=\"dataframe\">\n",
       "  <thead>\n",
       "    <tr style=\"text-align: right;\">\n",
       "      <th></th>\n",
       "      <th>price</th>\n",
       "      <th>bedrooms</th>\n",
       "      <th>bathrooms</th>\n",
       "      <th>sqft_living</th>\n",
       "      <th>sqft_lot</th>\n",
       "      <th>floors</th>\n",
       "      <th>waterfront</th>\n",
       "      <th>view</th>\n",
       "      <th>condition</th>\n",
       "      <th>grade</th>\n",
       "      <th>sqft_above</th>\n",
       "      <th>sqft_basement</th>\n",
       "      <th>yr_built</th>\n",
       "      <th>yr_renovated</th>\n",
       "      <th>sqft_living15</th>\n",
       "      <th>sqft_lot15</th>\n",
       "      <th>cherdak</th>\n",
       "    </tr>\n",
       "  </thead>\n",
       "  <tbody>\n",
       "    <tr>\n",
       "      <th>0</th>\n",
       "      <td>221900</td>\n",
       "      <td>3</td>\n",
       "      <td>1</td>\n",
       "      <td>1180</td>\n",
       "      <td>5650</td>\n",
       "      <td>1</td>\n",
       "      <td>0</td>\n",
       "      <td>0</td>\n",
       "      <td>3</td>\n",
       "      <td>7</td>\n",
       "      <td>1180</td>\n",
       "      <td>0</td>\n",
       "      <td>1955</td>\n",
       "      <td>0</td>\n",
       "      <td>1340</td>\n",
       "      <td>5650</td>\n",
       "      <td>0</td>\n",
       "    </tr>\n",
       "    <tr>\n",
       "      <th>1</th>\n",
       "      <td>538000</td>\n",
       "      <td>3</td>\n",
       "      <td>2</td>\n",
       "      <td>2570</td>\n",
       "      <td>7242</td>\n",
       "      <td>2</td>\n",
       "      <td>0</td>\n",
       "      <td>0</td>\n",
       "      <td>3</td>\n",
       "      <td>7</td>\n",
       "      <td>2170</td>\n",
       "      <td>400</td>\n",
       "      <td>1951</td>\n",
       "      <td>1991</td>\n",
       "      <td>1690</td>\n",
       "      <td>7639</td>\n",
       "      <td>0</td>\n",
       "    </tr>\n",
       "    <tr>\n",
       "      <th>2</th>\n",
       "      <td>180000</td>\n",
       "      <td>2</td>\n",
       "      <td>1</td>\n",
       "      <td>770</td>\n",
       "      <td>10000</td>\n",
       "      <td>1</td>\n",
       "      <td>0</td>\n",
       "      <td>0</td>\n",
       "      <td>3</td>\n",
       "      <td>6</td>\n",
       "      <td>770</td>\n",
       "      <td>0</td>\n",
       "      <td>1933</td>\n",
       "      <td>0</td>\n",
       "      <td>2720</td>\n",
       "      <td>8062</td>\n",
       "      <td>0</td>\n",
       "    </tr>\n",
       "    <tr>\n",
       "      <th>3</th>\n",
       "      <td>604000</td>\n",
       "      <td>4</td>\n",
       "      <td>3</td>\n",
       "      <td>1960</td>\n",
       "      <td>5000</td>\n",
       "      <td>1</td>\n",
       "      <td>0</td>\n",
       "      <td>0</td>\n",
       "      <td>5</td>\n",
       "      <td>7</td>\n",
       "      <td>1050</td>\n",
       "      <td>910</td>\n",
       "      <td>1965</td>\n",
       "      <td>0</td>\n",
       "      <td>1360</td>\n",
       "      <td>5000</td>\n",
       "      <td>0</td>\n",
       "    </tr>\n",
       "    <tr>\n",
       "      <th>4</th>\n",
       "      <td>510000</td>\n",
       "      <td>3</td>\n",
       "      <td>2</td>\n",
       "      <td>1680</td>\n",
       "      <td>8080</td>\n",
       "      <td>1</td>\n",
       "      <td>0</td>\n",
       "      <td>0</td>\n",
       "      <td>3</td>\n",
       "      <td>8</td>\n",
       "      <td>1680</td>\n",
       "      <td>0</td>\n",
       "      <td>1987</td>\n",
       "      <td>0</td>\n",
       "      <td>1800</td>\n",
       "      <td>7503</td>\n",
       "      <td>0</td>\n",
       "    </tr>\n",
       "  </tbody>\n",
       "</table>\n",
       "</div>"
      ],
      "text/plain": [
       "    price  bedrooms  bathrooms  sqft_living  sqft_lot  floors  waterfront  \\\n",
       "0  221900         3          1         1180      5650       1           0   \n",
       "1  538000         3          2         2570      7242       2           0   \n",
       "2  180000         2          1          770     10000       1           0   \n",
       "3  604000         4          3         1960      5000       1           0   \n",
       "4  510000         3          2         1680      8080       1           0   \n",
       "\n",
       "   view  condition  grade  sqft_above  sqft_basement  yr_built  yr_renovated  \\\n",
       "0     0          3      7        1180              0      1955             0   \n",
       "1     0          3      7        2170            400      1951          1991   \n",
       "2     0          3      6         770              0      1933             0   \n",
       "3     0          5      7        1050            910      1965             0   \n",
       "4     0          3      8        1680              0      1987             0   \n",
       "\n",
       "   sqft_living15  sqft_lot15  cherdak  \n",
       "0           1340        5650        0  \n",
       "1           1690        7639        0  \n",
       "2           2720        8062        0  \n",
       "3           1360        5000        0  \n",
       "4           1800        7503        0  "
      ]
     },
     "execution_count": 3,
     "metadata": {},
     "output_type": "execute_result"
    }
   ],
   "source": [
    "data= pd.read_csv('D:\\ML\\data\\kc_house_data.csv')\n",
    "data['bathrooms']=data['bathrooms'].astype(int)\n",
    "data['price']=data['price'].astype(int)\n",
    "data.pop('date')\n",
    "data.pop('id')\n",
    "data.pop('lat')\n",
    "data.pop('long')\n",
    "data.pop('zipcode')\n",
    "data['cherdak']=(data['floors']%1*2).astype(int)\n",
    "data['floors']=data['floors'].astype(int)\n",
    "data=data.drop_duplicates()\n",
    "data.head()"
   ]
  },
  {
   "cell_type": "code",
   "execution_count": 4,
   "id": "42f01e3c-d9b0-4429-8dcb-df8ab2fbe4be",
   "metadata": {},
   "outputs": [],
   "source": [
    "from sklearn.model_selection import train_test_split"
   ]
  },
  {
   "cell_type": "code",
   "execution_count": 5,
   "id": "f1a37682-8c39-40f9-9bf7-99caf6665703",
   "metadata": {},
   "outputs": [],
   "source": [
    "X=data.drop(['price'],axis=1)\n",
    "Y=data['price']\n",
    "X0=data0.drop(['Diabetes_012'],axis=1)\n",
    "Y0=data0['Diabetes_012']\n",
    "\n",
    "x_train,x_test,y_train,y_test= train_test_split(X,Y, test_size=0.2)\n",
    "x0_train,x0_test,y0_train,y0_test= train_test_split(X0,Y0, test_size=0.2)"
   ]
  },
  {
   "cell_type": "code",
   "execution_count": 6,
   "id": "2b0897a4-e5d7-4486-b290-394a8cbcecbf",
   "metadata": {},
   "outputs": [],
   "source": [
    "import tensorflow as tf\n",
    "import keras"
   ]
  },
  {
   "cell_type": "code",
   "execution_count": 7,
   "id": "fd745f9e-7ce8-4b6d-aaf3-5e79d91616d2",
   "metadata": {},
   "outputs": [],
   "source": [
    "from sklearn.metrics import mean_squared_error, mean_absolute_error\n",
    "from sklearn.metrics import confusion_matrix, classification_report"
   ]
  },
  {
   "cell_type": "code",
   "execution_count": 8,
   "id": "95a10d15-d28a-44cc-b31f-174169829371",
   "metadata": {},
   "outputs": [],
   "source": [
    "# создаем модель, как набор последовательных слоев\n",
    "model_regression = tf.keras.Sequential(\n",
    "    [\n",
    "        # Dense - полносвязный слой (каждый нейрон следующего слоя связан со всеми нейронами предыдущего)\n",
    "        tf.keras.layers.Dense(64, activation=\"relu\", input_shape=(16,)),\n",
    "        # на втором скрытом слое будет 32 нейрона\n",
    "        tf.keras.layers.Dense(32, activation=\"linear\"),\n",
    "        # Dropout позволяет внести фактор случайности - при обучении часть нейронов будет отключаться\n",
    "        # каждый нейрон, в данном случае, будет отключаться с вероятностью 0.1\n",
    "        tf.keras.layers.Dropout(0.1),\n",
    "        tf.keras.layers.Dense(16, activation=\"relu\"),\n",
    "        tf.keras.layers.Dropout(0.1),\n",
    "        # на выходе один нейрон, функция активации не применяется\n",
    "        tf.keras.layers.Dense(1, activation=\"linear\"),\n",
    "    ]\n",
    ")"
   ]
  },
  {
   "cell_type": "code",
   "execution_count": 9,
   "id": "1dc78697-1ee0-4b28-9ed8-27c6668a088a",
   "metadata": {},
   "outputs": [
    {
     "name": "stdout",
     "output_type": "stream",
     "text": [
      "Model: \"sequential\"\n",
      "_________________________________________________________________\n",
      " Layer (type)                Output Shape              Param #   \n",
      "=================================================================\n",
      " dense (Dense)               (None, 64)                1088      \n",
      "                                                                 \n",
      " dense_1 (Dense)             (None, 32)                2080      \n",
      "                                                                 \n",
      " dropout (Dropout)           (None, 32)                0         \n",
      "                                                                 \n",
      " dense_2 (Dense)             (None, 16)                528       \n",
      "                                                                 \n",
      " dropout_1 (Dropout)         (None, 16)                0         \n",
      "                                                                 \n",
      " dense_3 (Dense)             (None, 1)                 17        \n",
      "                                                                 \n",
      "=================================================================\n",
      "Total params: 3713 (14.50 KB)\n",
      "Trainable params: 3713 (14.50 KB)\n",
      "Non-trainable params: 0 (0.00 Byte)\n",
      "_________________________________________________________________\n"
     ]
    }
   ],
   "source": [
    "model_regression.summary()"
   ]
  },
  {
   "cell_type": "code",
   "execution_count": 10,
   "id": "416c148a-fe65-41a2-8a2b-99686bd61ac3",
   "metadata": {},
   "outputs": [],
   "source": [
    "model_regression.compile(optimizer=tf.keras.optimizers.Adam(learning_rate=0.005), loss=\"mse\")"
   ]
  },
  {
   "cell_type": "code",
   "execution_count": 12,
   "id": "3819d56e-0277-43db-9a30-117213fff763",
   "metadata": {},
   "outputs": [
    {
     "name": "stdout",
     "output_type": "stream",
     "text": [
      "Epoch 1/20\n",
      "541/541 [==============================] - 1s 1ms/step - loss: 68667006976.0000\n",
      "Epoch 2/20\n",
      "541/541 [==============================] - 1s 1ms/step - loss: 68106596352.0000\n",
      "Epoch 3/20\n",
      "541/541 [==============================] - 1s 1ms/step - loss: 65990774784.0000\n",
      "Epoch 4/20\n",
      "541/541 [==============================] - 1s 1ms/step - loss: 63176744960.0000\n",
      "Epoch 5/20\n",
      "541/541 [==============================] - 1s 1ms/step - loss: 63175139328.0000\n",
      "Epoch 6/20\n",
      "541/541 [==============================] - 1s 1ms/step - loss: 63501189120.0000\n",
      "Epoch 7/20\n",
      "541/541 [==============================] - 1s 1ms/step - loss: 61438431232.0000\n",
      "Epoch 8/20\n",
      "541/541 [==============================] - 1s 1ms/step - loss: 61402390528.0000\n",
      "Epoch 9/20\n",
      "541/541 [==============================] - 1s 1ms/step - loss: 61959901184.0000\n",
      "Epoch 10/20\n",
      "541/541 [==============================] - 1s 1ms/step - loss: 57037856768.0000\n",
      "Epoch 11/20\n",
      "541/541 [==============================] - 1s 1ms/step - loss: 60197687296.0000\n",
      "Epoch 12/20\n",
      "541/541 [==============================] - 1s 1ms/step - loss: 59229380608.0000\n",
      "Epoch 13/20\n",
      "541/541 [==============================] - 1s 1ms/step - loss: 56970846208.0000\n",
      "Epoch 14/20\n",
      "541/541 [==============================] - 1s 1ms/step - loss: 56372793344.0000\n",
      "Epoch 15/20\n",
      "541/541 [==============================] - 1s 1ms/step - loss: 57060511744.0000\n",
      "Epoch 16/20\n",
      "541/541 [==============================] - 1s 1ms/step - loss: 57998077952.0000\n",
      "Epoch 17/20\n",
      "541/541 [==============================] - 1s 1ms/step - loss: 55722360832.0000\n",
      "Epoch 18/20\n",
      "541/541 [==============================] - 1s 1ms/step - loss: 57284141056.0000\n",
      "Epoch 19/20\n",
      "541/541 [==============================] - 1s 1ms/step - loss: 55876886528.0000\n",
      "Epoch 20/20\n",
      "541/541 [==============================] - 1s 1ms/step - loss: 56012652544.0000\n"
     ]
    },
    {
     "data": {
      "text/plain": [
       "<keras.src.callbacks.History at 0x22d1d2c3550>"
      ]
     },
     "execution_count": 12,
     "metadata": {},
     "output_type": "execute_result"
    }
   ],
   "source": [
    "model_regression.fit(x_train, y_train, epochs=20)"
   ]
  },
  {
   "cell_type": "code",
   "execution_count": 13,
   "id": "e7f6f621-99e1-4c13-8727-33828bdaa8bd",
   "metadata": {},
   "outputs": [
    {
     "name": "stdout",
     "output_type": "stream",
     "text": [
      "136/136 [==============================] - 0s 920us/step\n",
      "147267.6735886164\n",
      "136/136 [==============================] - 0s 918us/step\n",
      "47683618088.06222\n"
     ]
    }
   ],
   "source": [
    "print(mean_absolute_error(y_test, model_regression.predict(x_test)))\n",
    "print(mean_squared_error(y_test, model_regression.predict(x_test)))"
   ]
  },
  {
   "cell_type": "code",
   "execution_count": 14,
   "id": "99a5ac9a-9d56-4ee0-a525-cb075f8c1eea",
   "metadata": {},
   "outputs": [],
   "source": [
    "model_regression.save(\"neuroRegressor.keras\")"
   ]
  },
  {
   "cell_type": "markdown",
   "id": "bbc40158-e5d1-4f67-b53f-8ff799768ed7",
   "metadata": {},
   "source": [
    "А теперь классификация"
   ]
  },
  {
   "cell_type": "code",
   "execution_count": 19,
   "id": "41c8d24f-b5d3-443a-a83a-06ce8206bf18",
   "metadata": {},
   "outputs": [],
   "source": [
    "model_classification = tf.keras.Sequential(\n",
    "    [\n",
    "        tf.keras.layers.Dense(64, activation=\"relu\", input_shape=(21,)),\n",
    "        tf.keras.layers.Dense(128, activation=\"relu\"),\n",
    "        tf.keras.layers.Dropout(0.05),\n",
    "        tf.keras.layers.Dense(64, activation=\"relu\"),\n",
    "        tf.keras.layers.Dense(32, activation=\"relu\"),\n",
    "        tf.keras.layers.Dense(16, activation=\"relu\"),\n",
    "        # используем 1 нейрон и sigmoid\n",
    "        tf.keras.layers.Dense(1, activation=\"sigmoid\"),\n",
    "    ]\n",
    ")"
   ]
  },
  {
   "cell_type": "code",
   "execution_count": 20,
   "id": "e11ca273-39e0-43ea-9c42-06b4f050ec1b",
   "metadata": {},
   "outputs": [],
   "source": [
    "w0 = 1 / y0_train[y0_train==0].shape[0]\n",
    "w1 = 1 / y0_train[y0_train==1].shape[0]"
   ]
  },
  {
   "cell_type": "code",
   "execution_count": 21,
   "id": "ab0c8189-4066-4eba-a6cd-9a6094d93d34",
   "metadata": {},
   "outputs": [
    {
     "data": {
      "text/plain": [
       "<keras.src.callbacks.History at 0x1f42f247f70>"
      ]
     },
     "execution_count": 21,
     "metadata": {},
     "output_type": "execute_result"
    }
   ],
   "source": [
    "model_classification.compile(optimizer=tf.keras.optimizers.Adam(learning_rate=0.005), loss=\"binary_crossentropy\")\n",
    "model_classification.fit(x0_train, y0_train, epochs=5, verbose=None,\n",
    "                           class_weight={0: w0, 1: w1})"
   ]
  },
  {
   "cell_type": "code",
   "execution_count": 22,
   "id": "e122e7f7-4b2f-4df1-8ca7-ee337e64fbb6",
   "metadata": {},
   "outputs": [
    {
     "data": {
      "text/plain": [
       "array([[0.29119053],\n",
       "       [0.0201563 ],\n",
       "       [0.02369957],\n",
       "       [0.3374721 ],\n",
       "       [0.2641847 ]], dtype=float32)"
      ]
     },
     "execution_count": 22,
     "metadata": {},
     "output_type": "execute_result"
    }
   ],
   "source": [
    "model_classification.predict(x0_test, verbose=None)[:5]"
   ]
  },
  {
   "cell_type": "code",
   "execution_count": 23,
   "id": "01ae24a4-18f1-4431-8512-b2bae615d161",
   "metadata": {},
   "outputs": [],
   "source": [
    "y0_pred = np.around(model_classification.predict(x0_test, verbose=None))"
   ]
  },
  {
   "cell_type": "code",
   "execution_count": 24,
   "id": "ddae5f26-9a5b-4e47-b070-99f86e5de615",
   "metadata": {},
   "outputs": [
    {
     "name": "stdout",
     "output_type": "stream",
     "text": [
      "              precision    recall  f1-score   support\n",
      "\n",
      "           0       0.94      0.73      0.82     42807\n",
      "           1       0.34      0.74      0.46      7929\n",
      "\n",
      "    accuracy                           0.73     50736\n",
      "   macro avg       0.64      0.74      0.64     50736\n",
      "weighted avg       0.84      0.73      0.77     50736\n",
      "\n",
      "[[31416 11391]\n",
      " [ 2088  5841]]\n"
     ]
    }
   ],
   "source": [
    "print(classification_report(y0_test, y0_pred))\n",
    "print(confusion_matrix(y0_test, y0_pred))"
   ]
  },
  {
   "cell_type": "markdown",
   "id": "790fea67-589e-4a4f-b521-c5b65d72d3ef",
   "metadata": {},
   "source": [
    "# Задание 2"
   ]
  },
  {
   "cell_type": "code",
   "execution_count": 151,
   "id": "182e5503-de70-4dff-9e81-e1fc68d70bfb",
   "metadata": {},
   "outputs": [],
   "source": [
    "class MLP:\n",
    "    def __init__(self, num_layers, num_neurons, activation_functions):\n",
    "        self.num_layers = num_layers\n",
    "        self.num_neurons = num_neurons\n",
    "        self.activation_functions = activation_functions\n",
    "\n",
    "        self.weights = []\n",
    "        self.biases = []\n",
    "\n",
    "        for i in range(self.num_layers):\n",
    "            if i == 0:\n",
    "                input_size = self.num_neurons[i]\n",
    "            else:\n",
    "                input_size = self.num_neurons[i-1]\n",
    "\n",
    "            weight = np.random.randn(input_size, self.num_neurons[i])\n",
    "            bias = np.zeros((1, self.num_neurons[i]))\n",
    "\n",
    "            self.weights.append(weight)\n",
    "            self.biases.append(bias)\n",
    "\n",
    "#    def lin(self, x):\n",
    "#        return x\n",
    "\n",
    "    def sigmoid(self, x):\n",
    "        return 1 / (1 + np.exp(-x))\n",
    "\n",
    "    def relu(self, x):\n",
    "        return np.maximum(0, x)\n",
    "\n",
    "    def tanh(self, x):\n",
    "        return np.tanh(x)\n",
    "\n",
    "    def forward(self, X):\n",
    "        self.layer_outputs = []\n",
    "        self.activations = []\n",
    "\n",
    "        input_data = X\n",
    "        for i in range(self.num_layers):\n",
    "            layer_output = np.dot(input_data, self.weights[i]) + self.biases[i]\n",
    "\n",
    "           # print(layer_output)\n",
    "            \n",
    "            if self.activation_functions[i] == 'sigmoid':\n",
    "                activation = self.sigmoid(layer_output)\n",
    "            elif self.activation_functions[i] == 'relu':\n",
    "                activation = self.relu(layer_output)\n",
    "            elif self.activation_functions[i] == 'tanh':\n",
    "                activation = self.tanh(layer_output)\n",
    "            elif self.activation_functions[i] == 'lin':\n",
    "                activation = self.lin(layer_output)\n",
    "            else:\n",
    "                raise ValueError('Unknown activation function')\n",
    "\n",
    "            self.layer_outputs.append(layer_output)\n",
    "            self.activations.append(activation)\n",
    "\n",
    "            input_data = activation\n",
    "\n",
    "        return activation\n",
    "\n",
    "    def backward(self, X, y, learning_rate):\n",
    "        batch_size = X.shape[0]\n",
    "\n",
    "        gradients = []\n",
    "        for i in reversed(range(self.num_layers)):\n",
    "            if i == self.num_layers - 1:\n",
    "                output_error = self.activations[i] - y\n",
    "            else:\n",
    "                output_error = np.dot(gradients[0], self.weights[i+1].T)\n",
    "\n",
    "            activation_derivative = self.derivative(self.activation_functions[i], self.layer_outputs[i])\n",
    "\n",
    "            gradient = output_error * activation_derivative\n",
    "\n",
    "           # print(\"gradient:\",gradient)\n",
    "            \n",
    "            gradients.insert(0, gradient)\n",
    "\n",
    "            batch_size = X.shape[0] if i == 0 else self.activations[i-1].shape[0]\n",
    "            weight_gradient = np.dot(self.activations[i], gradient.T) / batch_size\n",
    "            bias_gradient = np.mean(gradient, axis=0, keepdims=True)\n",
    "\n",
    "           # print( \"weight_gradient:\",weight_gradient )\n",
    "            \n",
    "            self.weights[i] =self.weights[i]-( learning_rate * weight_gradient )\n",
    "            self.biases[i] =self.biases[i]-( learning_rate * bias_gradient)\n",
    "\n",
    "    def derivative(self, activation_function, x):\n",
    "        if activation_function == 'sigmoid':\n",
    "            return self.sigmoid(x) * (1 - self.sigmoid(x))\n",
    "        elif activation_function == 'relu':\n",
    "            return np.where(x <= 0, 0, 1)\n",
    "        elif activation_function == 'tanh':\n",
    "            return 1 - np.tanh(x) ** 2\n",
    "   #     elif activation_function == 'lin':\n",
    "    #        return 1\n",
    "        else:\n",
    "            raise ValueError('Unknown activation function')\n",
    "\n",
    "    def fit(self, X_train, y_train, epochs, learning_rate):\n",
    "        for epoch in range(epochs):\n",
    "            indices = np.random.permutation(X_train.shape[0])\n",
    "            X_train_shuffled = X_train[indices]\n",
    "            y_train_shuffled = y_train[indices]\n",
    "\n",
    "            for i in range(0, X_train.shape[0]):\n",
    "                X_batch = X_train_shuffled[i:i+1]\n",
    "                y_batch = y_train_shuffled[i:i+1]\n",
    "\n",
    "           #     if i==2:\n",
    "           #         print(X_batch)\n",
    "                \n",
    "                self.forward(X_batch)\n",
    "\n",
    "            #    print(\"\")\n",
    "                \n",
    "                self.backward(X_batch, y_batch, learning_rate)\n",
    "\n",
    "    def predict(self, X):\n",
    "        #prediction=[]\n",
    "       # for i in range(X.shape[0]):\n",
    "       #      prediction.append(self.forward(i))\n",
    "        return self.forward(X)\n",
    "    def print_activations(self):\n",
    "        for i in  self.activations:\n",
    "            print(i)\n",
    "    def print_levels(self):\n",
    "        for i in   self.layer_outputs:\n",
    "            print(i)"
   ]
  },
  {
   "cell_type": "code",
   "execution_count": 152,
   "id": "7db75114-1c46-4343-b8b7-8a0f5f12457e",
   "metadata": {},
   "outputs": [],
   "source": [
    "mlp = MLP(num_layers=3, num_neurons=[16, 13,1], activation_functions=['relu', 'relu', 'tanh'])\n",
    "mlp.fit(np.array(x_train), np.array(y_train), epochs=1, learning_rate=0.05)\n"
   ]
  },
  {
   "cell_type": "code",
   "execution_count": 153,
   "id": "efd6a707-7dea-4509-84d0-387520abe37a",
   "metadata": {},
   "outputs": [
    {
     "name": "stdout",
     "output_type": "stream",
     "text": [
      "[[  632.36036809     0.           845.49583632     0.\n",
      "  10493.31321458     0.             0.             0.\n",
      "   3424.72519475  3374.37379463     0.             0.\n",
      "      0.          2016.90212702     0.             0.        ]]\n",
      "[[   0.            0.            0.            0.         4149.14049271\n",
      "     0.            0.            0.            0.            0.\n",
      "     0.            0.         4932.93789313]]\n",
      "[[-1.]]\n"
     ]
    }
   ],
   "source": [
    "mlp.print_activations()"
   ]
  },
  {
   "cell_type": "code",
   "execution_count": 154,
   "id": "2a77d949-1e0e-4b3f-a110-6b272087a7ef",
   "metadata": {},
   "outputs": [
    {
     "name": "stdout",
     "output_type": "stream",
     "text": [
      "[[  632.36036809 -1209.36589057   845.49583632 -2141.94371785\n",
      "  10493.31321458 -1699.83958532 -6859.29560634 -2463.64711625\n",
      "   3424.72519475  3374.37379463 -4363.15277324  -660.02743602\n",
      "  -5585.15589055  2016.90212702 -4413.5138469  -3681.09306739]]\n",
      "[[  -278.64215835 -11702.49167732  -7397.68171475  -5138.35457118\n",
      "    4149.14049271  -9327.57067255  -8454.62823757  -5703.64357048\n",
      "   -5192.75851141 -12372.07612988 -11962.44315783 -17845.25412046\n",
      "    4932.93789313]]\n",
      "[[-2651.57373411]]\n"
     ]
    }
   ],
   "source": [
    "mlp.print_levels()"
   ]
  },
  {
   "cell_type": "code",
   "execution_count": 155,
   "id": "1558afad-b47d-42fc-ae41-84bbad9e56b7",
   "metadata": {},
   "outputs": [],
   "source": [
    "y_pred_mlp = mlp.predict(np.array(x_test))"
   ]
  },
  {
   "cell_type": "code",
   "execution_count": 156,
   "id": "787df2f0-2fff-47c5-bfa7-02ddddd6161d",
   "metadata": {},
   "outputs": [
    {
     "name": "stdout",
     "output_type": "stream",
     "text": [
      "542732.358859697\n",
      "431557874101.0037\n"
     ]
    }
   ],
   "source": [
    "print(mean_absolute_error(y_test, np.array(y_pred_mlp)))\n",
    "print(mean_squared_error(y_test,  np.array(y_pred_mlp)))"
   ]
  },
  {
   "cell_type": "code",
   "execution_count": 157,
   "id": "dd4267b9-d80c-4944-9620-1a0a8ed69084",
   "metadata": {},
   "outputs": [
    {
     "name": "stderr",
     "output_type": "stream",
     "text": [
      "C:\\Users\\ov00v\\AppData\\Local\\Temp\\ipykernel_5724\\2784707162.py:26: RuntimeWarning: overflow encountered in exp\n",
      "  return 1 / (1 + np.exp(-x))\n"
     ]
    }
   ],
   "source": [
    "mlp0 = MLP(num_layers=3, num_neurons=[21, 32, 1], activation_functions=['relu', 'sigmoid', 'sigmoid'])\n",
    "mlp0.fit(np.array(x0_train), np.array(y0_train), epochs=1, learning_rate=0.005)\n",
    "y0_pred_mlp = mlp0.predict(x0_test)"
   ]
  },
  {
   "cell_type": "code",
   "execution_count": 158,
   "id": "0c5582be-4918-4b30-bac8-b5cd17b26d45",
   "metadata": {},
   "outputs": [
    {
     "data": {
      "text/plain": [
       "array([[0.040869  ],\n",
       "       [0.03373071],\n",
       "       [0.00023306],\n",
       "       ...,\n",
       "       [0.00017029],\n",
       "       [0.05121255],\n",
       "       [0.00116756]])"
      ]
     },
     "execution_count": 158,
     "metadata": {},
     "output_type": "execute_result"
    }
   ],
   "source": [
    "y0_pred_mlp"
   ]
  },
  {
   "cell_type": "code",
   "execution_count": 159,
   "id": "e73f5c58-366c-484b-805b-40c7ee7b63c4",
   "metadata": {},
   "outputs": [],
   "source": [
    "y0_pred_mlp = np.around(y0_pred_mlp)"
   ]
  },
  {
   "cell_type": "code",
   "execution_count": 160,
   "id": "b5384365-d99e-419b-8afc-98fdcfeda89b",
   "metadata": {},
   "outputs": [
    {
     "name": "stdout",
     "output_type": "stream",
     "text": [
      "              precision    recall  f1-score   support\n",
      "\n",
      "           0       0.84      1.00      0.92     42807\n",
      "           1       0.00      0.00      0.00      7929\n",
      "\n",
      "    accuracy                           0.84     50736\n",
      "   macro avg       0.42      0.50      0.46     50736\n",
      "weighted avg       0.71      0.84      0.77     50736\n",
      "\n",
      "[[42802     5]\n",
      " [ 7929     0]]\n"
     ]
    }
   ],
   "source": [
    "print(classification_report(y0_test, y0_pred_mlp))\n",
    "print(confusion_matrix(y0_test, y0_pred_mlp))"
   ]
  },
  {
   "cell_type": "code",
   "execution_count": null,
   "id": "87cff099-86ab-4f8f-b2d2-a6be044e12cd",
   "metadata": {},
   "outputs": [],
   "source": []
  }
 ],
 "metadata": {
  "kernelspec": {
   "display_name": "Python 3 (ipykernel)",
   "language": "python",
   "name": "python3"
  },
  "language_info": {
   "codemirror_mode": {
    "name": "ipython",
    "version": 3
   },
   "file_extension": ".py",
   "mimetype": "text/x-python",
   "name": "python",
   "nbconvert_exporter": "python",
   "pygments_lexer": "ipython3",
   "version": "3.9.13"
  }
 },
 "nbformat": 4,
 "nbformat_minor": 5
}
